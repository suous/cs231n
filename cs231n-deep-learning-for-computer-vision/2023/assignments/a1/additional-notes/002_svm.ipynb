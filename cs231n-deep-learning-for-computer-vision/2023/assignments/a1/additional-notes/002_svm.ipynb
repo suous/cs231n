{
 "cells": [
  {
   "cell_type": "code",
   "execution_count": null,
   "id": "68d3ddf2-1c5d-477a-957b-eadb0ec89484",
   "metadata": {
    "tags": []
   },
   "outputs": [],
   "source": [
    "import tempfile\n",
    "from pathlib import Path\n",
    "\n",
    "from PIL import Image\n",
    "import numpy as np\n",
    "import matplotlib.pylab as plt\n",
    "\n",
    "from utils import load_cifar10, batch_plot, seed_everything, moving_average, weights_to_images\n",
    "\n",
    "\n",
    "seed_everything()\n",
    "np.set_printoptions(precision=3)\n",
    "\n",
    "%load_ext autoreload\n",
    "%autoreload 2\n",
    "\n",
    "benchmark = False\n",
    "save_weights_update = False"
   ]
  },
  {
   "cell_type": "code",
   "execution_count": null,
   "id": "7c03fa41-a47c-4c88-a7a5-784680e736b5",
   "metadata": {
    "tags": []
   },
   "outputs": [],
   "source": [
    "(X_train, y_train), (X_test, y_test) = load_cifar10(\"../code/cs231n/datasets/cifar-10-batches-py/\")\n",
    "\n",
    "assert X_train.shape == (50000, 32, 32, 3)\n",
    "assert y_train.shape == (50000,)\n",
    "assert X_test.shape == (10000, 32, 32, 3)\n",
    "assert y_test.shape == (10000,)"
   ]
  },
  {
   "cell_type": "code",
   "execution_count": null,
   "id": "826b2c69-c616-446d-b0c7-6e759cbe9ba4",
   "metadata": {
    "tags": []
   },
   "outputs": [],
   "source": [
    "# 0: airplane\n",
    "# 1. automobile\n",
    "# 2: bird\n",
    "# 3: cat\n",
    "target_classes = [0, 1, 2, 3]\n",
    "train_indices = np.isin(y_train, target_classes)\n",
    "test_indices = np.isin(y_test, target_classes)\n",
    "\n",
    "X_train, y_train = X_train[train_indices], y_train[train_indices]\n",
    "X_test, y_test = X_test[test_indices], y_test[test_indices]"
   ]
  },
  {
   "cell_type": "code",
   "execution_count": null,
   "id": "6fb93380-2261-42e2-b6ff-1cd333053bc1",
   "metadata": {
    "tags": []
   },
   "outputs": [],
   "source": [
    "# Get the indexes of 'batch_size' random digits\n",
    "batch_size = 16\n",
    "random_indexes = np.random.randint(X_train.shape[0], size=batch_size)\n",
    "# Plot digits with labels\n",
    "batch_plot(X_train[random_indexes], y_train[random_indexes], with_border=False)"
   ]
  },
  {
   "cell_type": "code",
   "execution_count": null,
   "id": "28c1658d-39c9-4c1f-b2e4-5531781406ce",
   "metadata": {
    "tags": []
   },
   "outputs": [],
   "source": [
    "tmp_dir = Path(tempfile.mkdtemp())\n",
    "sample_images = {\"cat\": 110, \"bird\": 314, \"airplane_0\": 153, \"automobile\": 49, \"airplane_1\": 25}\n",
    "\n",
    "for c, i in sample_images.items():\n",
    "    Image.fromarray(X_train[i]).save(tmp_dir.joinpath(f\"image_{c}.png\"))"
   ]
  },
  {
   "cell_type": "code",
   "execution_count": null,
   "id": "91650714-7124-4a2f-a5ac-b90e2bdec7c3",
   "metadata": {
    "tags": []
   },
   "outputs": [],
   "source": [
    "weights = np.random.randn(len(target_classes), *X_train[0].shape) * 0.0001\n",
    "bias = np.zeros((len(sample_images), 1))\n",
    "\n",
    "weights_image = weights_to_images(weights)\n",
    "\n",
    "for i, w in enumerate(weights_image):\n",
    "    Image.fromarray(w).resize((128, 128)).save(tmp_dir.joinpath(f\"weights_{i}_epoch_0000.png\"))"
   ]
  },
  {
   "cell_type": "code",
   "execution_count": 42,
   "outputs": [],
   "source": [
    "!open {tmp_dir}"
   ],
   "metadata": {
    "collapsed": false,
    "ExecuteTime": {
     "end_time": "2023-09-01T03:29:44.146805Z",
     "start_time": "2023-09-01T03:29:43.865306Z"
    }
   },
   "id": "4b2517db4063e3e6"
  },
  {
   "cell_type": "code",
   "execution_count": null,
   "id": "cd60b88d-a88a-4ba9-97d8-ad9dac4f445c",
   "metadata": {
    "tags": []
   },
   "outputs": [],
   "source": [
    "s = np.einsum(\"nhwc,mhwc->nm\", X_train[list(sample_images.values())], weights) + bias\n",
    "y = y_train[list(sample_images.values())]\n",
    "sy = s[np.arange(len(y)), y]\n",
    "margins = np.maximum(0, s - sy[:, None] + 1)\n",
    "loss = np.sum(margins) / len(y) - 1\n",
    "\n",
    "assert s.shape == (len(sample_images), len(target_classes))\n",
    "assert np.allclose(y, [3, 2, 0, 1, 0])\n",
    "assert margins.shape == (len(sample_images), len(target_classes))"
   ]
  },
  {
   "cell_type": "markdown",
   "id": "514587b9-0163-4391-91c0-8c3ea84de0a8",
   "metadata": {},
   "source": [
    "<img src=\"images/svm_training_epoch_0000.png\">"
   ]
  },
  {
   "cell_type": "code",
   "execution_count": null,
   "id": "79a5821d-c9c3-4c3a-b034-8677a5d5530c",
   "metadata": {
    "tags": []
   },
   "outputs": [],
   "source": [
    "from svm import svm_loss_original, svm_loss_reshaped, svm_loss_original_with_grads, svm_loss_reshaped_with_grads\n",
    "\n",
    "\n",
    "reg = 1e3\n",
    "W = np.random.randn(len(target_classes), *X_train[0].shape) * 0.0001\n",
    "W_reshaped, X_train_reshaped = W.reshape((len(target_classes), -1)).T, X_train.reshape((len(y_train), -1))\n",
    "bias = np.zeros((len(X_train), 1))\n",
    "\n",
    "if benchmark:\n",
    "    %timeit svm_loss_original(x=X_train, y=y_train, weights=W, bias=bias, reg=reg)\n",
    "    %timeit svm_loss_reshaped(x=X_train_reshaped, y=y_train, weights=W_reshaped, bias=bias, reg=reg)\n",
    "\n",
    "assert np.allclose(\n",
    "    svm_loss_original(x=X_train, y=y_train, weights=W, bias=bias, reg=reg),\n",
    "    svm_loss_reshaped(x=X_train_reshaped, y=y_train, weights=W_reshaped, bias=bias, reg=reg),\n",
    ")"
   ]
  },
  {
   "cell_type": "code",
   "execution_count": null,
   "id": "8c5195a3-839a-4313-98e6-4b3416f96180",
   "metadata": {
    "tags": []
   },
   "outputs": [],
   "source": [
    "if benchmark:\n",
    "    %timeit svm_loss_original_with_grads(x=X_train, y=y_train, weights=W, bias=bias, reg=reg)\n",
    "    %timeit svm_loss_reshaped_with_grads(x=X_train_reshaped, y=y_train, weights=W_reshaped, bias=bias, reg=reg)\n",
    "\n",
    "loss_original, dw_original, db_original = svm_loss_original_with_grads(\n",
    "    x=X_train, y=y_train, weights=W, bias=bias, reg=reg\n",
    ")\n",
    "loss_reshaped, dw_reshaped, db_reshaped = svm_loss_reshaped_with_grads(\n",
    "    x=X_train_reshaped, y=y_train, weights=W_reshaped, bias=bias, reg=reg\n",
    ")\n",
    "\n",
    "assert np.allclose(loss_original, loss_reshaped), \"loss not equal\"\n",
    "assert np.allclose(dw_original, dw_reshaped.T.reshape(dw_original.shape)), \"delta of weights not equal\"\n",
    "assert np.allclose(db_original, db_reshaped), \"delta of bias not equal\""
   ]
  },
  {
   "cell_type": "code",
   "execution_count": null,
   "id": "895f5732-d3db-4085-9b50-457552ae85e3",
   "metadata": {},
   "outputs": [],
   "source": [
    "mean_image = np.mean(X_train, axis=0)\n",
    "\n",
    "X_train = X_train.astype(float) - mean_image\n",
    "X_test = X_test.astype(float) - mean_image"
   ]
  },
  {
   "cell_type": "code",
   "execution_count": null,
   "id": "d7837dc7-2dc7-4d82-b0b2-7e0ef46ff06a",
   "metadata": {
    "tags": []
   },
   "outputs": [],
   "source": [
    "from svm import train, predict\n",
    "\n",
    "\n",
    "history, weights, bias = train(\n",
    "    X_train, y_train, reg=4e3, learning_rate=3e-7, num_iters=3000, batch_size=200, verbose=True\n",
    ")\n",
    "\n",
    "pred_train = predict(X_train, weights, bias)\n",
    "pred_valid = predict(X_test, weights, bias)\n",
    "train_accuracy = np.mean(y_train == pred_train)\n",
    "valid_accuracy = np.mean(y_test == pred_valid)\n",
    "\n",
    "print(f\"train acc: {train_accuracy:.4f}, valid acc: {valid_accuracy:.4f}\")"
   ]
  },
  {
   "cell_type": "code",
   "execution_count": null,
   "id": "4b1ac57b-cb07-42c0-9ef1-4096d56e9906",
   "metadata": {
    "tags": []
   },
   "outputs": [],
   "source": [
    "plt.plot(history[\"loss\"], color=\"gray\", alpha=0.8)\n",
    "plt.plot(moving_average(history[\"loss\"]), color=\"k\")\n",
    "plt.grid(\"on\")\n",
    "plt.show()"
   ]
  },
  {
   "cell_type": "code",
   "execution_count": null,
   "id": "cf94a57a-dd6b-457f-9068-b1dbda6cef2c",
   "metadata": {
    "tags": []
   },
   "outputs": [],
   "source": [
    "if save_weights_update:\n",
    "    import io\n",
    "    from PIL import Image\n",
    "\n",
    "    total_weights = []\n",
    "    update_steps = 30\n",
    "\n",
    "    for weights in history[\"weights\"][::update_steps]:\n",
    "        weights_image = weights_to_images(weights.reshape((-1, 32, 32, 3)))\n",
    "\n",
    "        img_buf = io.BytesIO()\n",
    "        batch_plot(weights_image, with_border=False, save_path=img_buf)\n",
    "        total_weights.append(Image.open(img_buf).resize((512, 512)).copy())\n",
    "        img_buf.close()\n",
    "\n",
    "    total_weights[0].save(\n",
    "        f\"images/svm_weights_update.gif\",\n",
    "        save_all=True,\n",
    "        append_images=total_weights[1:],\n",
    "        optimize=False,\n",
    "        duration=100,\n",
    "        loop=0,\n",
    "    )"
   ]
  },
  {
   "cell_type": "code",
   "execution_count": null,
   "id": "d05b2cd2-265e-4800-b577-68a41666d2a3",
   "metadata": {
    "tags": []
   },
   "outputs": [],
   "source": [
    "weights, bias = history[\"weights\"][-1], history[\"bias\"][-1]\n",
    "weights_image = weights_to_images(weights)\n",
    "batch_plot(weights_image)"
   ]
  },
  {
   "cell_type": "markdown",
   "id": "6a201c71-24ad-4535-b49d-0fb8f4305da7",
   "metadata": {
    "tags": []
   },
   "source": [
    "<img src=\"images/svm_weights_update.gif\" width=\"800\">"
   ]
  },
  {
   "cell_type": "code",
   "execution_count": null,
   "id": "71e0e0ab-bcb2-444c-9813-90d48bbd8e2f",
   "metadata": {
    "tags": []
   },
   "outputs": [],
   "source": [
    "s = np.einsum(\"nhwc,mhwc->nm\", X_train[list(sample_images.values())], weights) + bias\n",
    "y = y_train[list(sample_images.values())]\n",
    "sy = s[np.arange(len(y)), y]\n",
    "margins = np.maximum(0, s - sy[:, None] + 1)\n",
    "loss = np.sum(margins) / len(y) - 1"
   ]
  },
  {
   "cell_type": "markdown",
   "id": "dd695727-d13b-439a-9dc4-290e68768e6c",
   "metadata": {},
   "source": [
    "<img src=\"images/svm_training_epoch_2950.png\">"
   ]
  }
 ],
 "metadata": {
  "kernelspec": {
   "display_name": "Python 3 (ipykernel)",
   "language": "python",
   "name": "python3"
  },
  "language_info": {
   "codemirror_mode": {
    "name": "ipython",
    "version": 3
   },
   "file_extension": ".py",
   "mimetype": "text/x-python",
   "name": "python",
   "nbconvert_exporter": "python",
   "pygments_lexer": "ipython3",
   "version": "3.10.9"
  }
 },
 "nbformat": 4,
 "nbformat_minor": 5
}
