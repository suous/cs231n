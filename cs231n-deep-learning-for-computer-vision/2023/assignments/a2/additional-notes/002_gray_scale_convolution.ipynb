{
 "cells": [
  {
   "cell_type": "code",
   "execution_count": null,
   "id": "cd33b33f-6dc0-4bac-a556-465f2d46a88f",
   "metadata": {
    "tags": []
   },
   "outputs": [],
   "source": [
    "import numpy as np\n",
    "import matplotlib.pyplot as plt\n",
    "from scipy import datasets as misc\n",
    "\n",
    "from utils import batch_plot\n",
    "from conv import load_sample_filters, generate_output_size"
   ]
  },
  {
   "cell_type": "code",
   "execution_count": null,
   "id": "2ad06372-f82f-42b0-8340-fc4eacbcc5c0",
   "metadata": {},
   "outputs": [],
   "source": [
    "sample_image = misc.ascent()\n",
    "sample_image = sample_image / sample_image.max()\n",
    "batch_plot(np.expand_dims(sample_image, 0), with_border=False, cmap=plt.cm.gray, imgsize=6)"
   ]
  },
  {
   "cell_type": "markdown",
   "id": "7ddd5441-a382-4add-a925-6fded4fe1d52",
   "metadata": {},
   "source": [
    "# Generate sliding window views of the image\n",
    "\n",
    "<img src=\"./images/sliding_steps.gif\">"
   ]
  },
  {
   "cell_type": "code",
   "execution_count": null,
   "id": "5a9c29dc-1af7-4486-a2c6-59eefb51e3ce",
   "metadata": {},
   "outputs": [],
   "source": [
    "# example of using numpy sliding_window_view: stride=1\n",
    "height, width, window, stride = 5, 5, 3, 1\n",
    "x = np.arange(height * width).reshape((height, width))\n",
    "y = np.lib.stride_tricks.sliding_window_view(x, window_shape=(window, window))\n",
    "\n",
    "# (height - window)/stride + 1 = chunk_height\n",
    "chunk_height = generate_output_size(height, window, stride, padding=0)\n",
    "chunk_width = generate_output_size(width, window, stride, padding=0)\n",
    "assert y.shape == (chunk_height, chunk_width, window, window)\n",
    "\n",
    "# low level operation\n",
    "stride_height, stride_width = x.strides\n",
    "z = np.lib.stride_tricks.as_strided(\n",
    "    x,\n",
    "    shape=(chunk_height, chunk_width, window, window),\n",
    "    strides=(\n",
    "        stride * stride_height,\n",
    "        stride * stride_width,\n",
    "        stride_height,\n",
    "        stride_width,\n",
    "    ),\n",
    ")\n",
    "assert np.allclose(y, z)"
   ]
  },
  {
   "cell_type": "code",
   "execution_count": null,
   "id": "46bf9b28-fe90-48e9-9006-ae2e06b63b4f",
   "metadata": {},
   "outputs": [],
   "source": [
    "# plot nxn views of the image\n",
    "n = 4\n",
    "height, width = sample_image.shape\n",
    "num_stride_height, num_stride_width = height // n, width // n\n",
    "chunk_height, chunk_width = n, n\n",
    "stride_height, stride_width = sample_image.strides\n",
    "# (height - filter_height)/stride + 1 = chunk_height\n",
    "filter_height = height - num_stride_height * (chunk_height - 1)\n",
    "filter_width = width - num_stride_width * (chunk_width - 1)\n",
    "chunks = np.lib.stride_tricks.as_strided(\n",
    "    sample_image,\n",
    "    shape=(chunk_height, chunk_width, filter_height, filter_width),\n",
    "    strides=(\n",
    "        num_stride_height * stride_height,\n",
    "        num_stride_width * stride_width,\n",
    "        stride_height,\n",
    "        stride_width,\n",
    "    ),\n",
    ")\n",
    "assert chunks.shape == (chunk_height, chunk_width, filter_height, filter_width)"
   ]
  },
  {
   "cell_type": "code",
   "execution_count": null,
   "id": "8b255f2a-3ae8-4957-8a0a-4b89c64ff84c",
   "metadata": {},
   "outputs": [],
   "source": [
    "sliding_sample_image = chunks.reshape((-1, filter_height, filter_width))\n",
    "batch_plot(\n",
    "    sliding_sample_image,\n",
    "    with_border=False,\n",
    "    cmap=plt.cm.gray,\n",
    "    tight_layout=None,\n",
    "    wspace=0.01,\n",
    "    hspace=0.01,\n",
    "    imgsize=2,\n",
    ")"
   ]
  },
  {
   "cell_type": "markdown",
   "id": "e27d70b6-83c3-4668-ae9e-8f2f8559116c",
   "metadata": {
    "tags": []
   },
   "source": [
    "# Apply filters to the sliding window chunks\n",
    "\n",
    "<img src=\"./images/convolution_steps.gif\">"
   ]
  },
  {
   "cell_type": "code",
   "execution_count": null,
   "id": "1667633a-7220-4ae0-bb5b-edb8f48aa9d0",
   "metadata": {},
   "outputs": [],
   "source": [
    "# fmt: off\n",
    "zero = np.array([\n",
    "    [0 ,0 ,5, 13,9, 1 ,0 ,0 ], \n",
    "    [0 ,0 ,13,15,10,15,5 ,0 ], \n",
    "    [0 ,3 ,15,2 ,0, 11,8 ,0 ],\n",
    "    [0 ,4 ,12,0 ,0, 8 ,8 ,0 ],\n",
    "    [0 ,5 ,8, 0 ,0, 9 ,8 ,0 ],\n",
    "    [0 ,4 ,11,0 ,1, 12,7 ,0 ],\n",
    "    [0 ,2 ,14,5 ,10,12,0 ,0 ],\n",
    "    [0 ,0 ,6, 13,10,0 ,0 ,0 ]\n",
    "])\n",
    "# fmt: on\n",
    "\n",
    "batch_plot(np.expand_dims(zero, 0), cmap=plt.cm.gray_r)"
   ]
  },
  {
   "cell_type": "markdown",
   "id": "9b93a748-6db7-4c64-ac9a-3c8d49133cd1",
   "metadata": {},
   "source": [
    "Define gray scale image as $A$, kernel as $W$ and feature map as $Z$,\n",
    "\n",
    "$$\n",
    "Z = A*W = \\sum_i\\sum_j\\sum_k\\sum_l A(i+k, j+l)W(k,l) \\tag {1}\n",
    "$$\n",
    "\n",
    "Where,\n",
    "\n",
    "$$\n",
    "Z(i,j) = (A*W)(i,j) = \\sum_k\\sum_l A(i+k, j+l)W(k,l) \\tag {2}\n",
    "$$\n",
    "\n"
   ]
  },
  {
   "cell_type": "code",
   "execution_count": null,
   "id": "97665249-9734-4a20-8e71-a80f180928c4",
   "metadata": {},
   "outputs": [],
   "source": [
    "filter_size = 5\n",
    "zero_height, zero_width = zero.shape\n",
    "feature_map_height = generate_output_size(zero_height, filter_size, stride=1, padding=0)\n",
    "feature_map_width = generate_output_size(zero_width, filter_size, stride=1, padding=0)\n",
    "gaussain_filter = load_sample_filters(size=filter_size, sigma=1)[\"gaussian\"]\n",
    "\n",
    "\n",
    "\"\"\"step by step \n",
    "feature_map = np.zeros((feature_map_height, feature_map_width))\n",
    "\n",
    "for m_h in range(feature_map_height):\n",
    "    for m_w in range(feature_map_width):\n",
    "        for f_h in range(filter_size):\n",
    "            for f_w in range(filter_size):\n",
    "                feature_map[m_h, m_w] += zero[m_h+f_h, m_w+f_w] * gaussain_filter[f_h, f_w]\n",
    "\"\"\"\n",
    "\n",
    "# with stride tricks\n",
    "sliding_view_of_zero = np.lib.stride_tricks.sliding_window_view(zero, window_shape=(filter_size, filter_size))\n",
    "\n",
    "assert gaussain_filter.shape == (filter_size, filter_size)\n",
    "assert sliding_view_of_zero.shape == (\n",
    "    feature_map_height,\n",
    "    feature_map_width,\n",
    "    filter_size,\n",
    "    filter_size,\n",
    ")\n",
    "\n",
    "feature_map = (sliding_view_of_zero * gaussain_filter).sum(axis=(2, 3))\n",
    "batch_plot(np.expand_dims(feature_map, 0), cmap=plt.cm.gray_r)"
   ]
  },
  {
   "cell_type": "code",
   "execution_count": null,
   "id": "bca654e7-4d2b-4f6f-b92c-130407695d46",
   "metadata": {},
   "outputs": [],
   "source": [
    "filter_height = filter_width = 7\n",
    "sample_filters = load_sample_filters(size=filter_height, sigma=1)\n",
    "\n",
    "batch_plot(\n",
    "    list(sample_filters.values()),\n",
    "    list(sample_filters.keys()),\n",
    "    with_border=True,\n",
    "    cmap=plt.cm.gray_r,\n",
    "    tight_layout=None,\n",
    "    wspace=0.1,\n",
    "    hspace=0.1,\n",
    "    imgsize=4,\n",
    ")"
   ]
  },
  {
   "cell_type": "code",
   "execution_count": null,
   "id": "01f0322b-b0de-47b2-9716-d0ed6ceb8dd9",
   "metadata": {},
   "outputs": [],
   "source": [
    "# chunked with stride of 1\n",
    "height, width = sample_image.shape\n",
    "filters = np.asarray(list(sample_filters.values()))\n",
    "chunks = np.lib.stride_tricks.sliding_window_view(sample_image, window_shape=(filter_height, filter_width))\n",
    "chunk_height, chunk_width = height - filter_height + 1, width - filter_width + 1\n",
    "\n",
    "assert chunks.shape == (chunk_height, chunk_width, filter_height, filter_width)\n",
    "\n",
    "# chunks:                                                   (chunk_height, chunk_width, filter_height, filter_width)\n",
    "# filters:                                                  (num_filters, filter_height, filter_width)\n",
    "\n",
    "# 1. step by step\n",
    "# np.expand_dims(chunks, 2):                                (chunk_height, chunk_width, 1, filter_height, filter_width)\n",
    "# np.expand_dims(chunks, 2) * filters:                      (chunk_height, chunk_width, num_filters, filter_height, filter_width)\n",
    "# np.expand_dims(chunks, 2) * filters).sum(axis=(-2,-1)):   (chunk_height, chunk_width, num_filters)\n",
    "# filtered_sample_image = (np.expand_dims(chunks, 2) * filters).sum(axis=(-2,-1)).transpose((2,0,1))\n",
    "# 2. tensordot\n",
    "# filtered_sample_image = np.tensordot(chunks, filters, axes=((2,3), (1,2))).transpose((2,0,1))\n",
    "# 3. einsum\n",
    "# filtered_sample_image = np.einsum('ijkl,nkl->nij',chunks,filters)\n",
    "\n",
    "# 4. img2col\n",
    "# filters.reshape((-1, filter_height*filter_width)).T                           (filter_height*filter_width, num_filters)\n",
    "# chunks.reshape((chunk_height*chunk_width, filter_height*filter_width))        (chunk_height*chunk_width, filter_height*filter_width)\n",
    "filtered_sample_image = (\n",
    "    chunks.reshape((chunk_height * chunk_width, filter_height * filter_width))\n",
    "    @ filters.reshape((-1, filter_height * filter_width)).T\n",
    ")\n",
    "filtered_sample_image = filtered_sample_image.reshape((chunk_height, chunk_width, -1)).transpose((2, 0, 1))\n",
    "\n",
    "assert filtered_sample_image.shape == (len(filters), chunk_height, chunk_width)\n",
    "\n",
    "batch_plot(\n",
    "    filtered_sample_image,\n",
    "    list(sample_filters.keys()),\n",
    "    with_border=False,\n",
    "    cmap=plt.cm.gray,\n",
    "    tight_layout=None,\n",
    "    wspace=0.1,\n",
    "    hspace=0.1,\n",
    "    imgsize=6,\n",
    ")"
   ]
  },
  {
   "cell_type": "code",
   "execution_count": null,
   "id": "7b9cdb70-f6cc-41ba-a7f0-98d550cc282f",
   "metadata": {
    "tags": []
   },
   "outputs": [],
   "source": [
    "from scipy import signal\n",
    "\n",
    "\n",
    "def conv2d(image, kernel):\n",
    "    kernel_height, kernel_width = kernel.shape\n",
    "    padding_height, padding_width = (kernel_height - 1) // 2, (kernel_width - 1) // 2\n",
    "    # same padding\n",
    "    image = np.pad(image, pad_width=((padding_height, padding_width), (padding_height, padding_width)))\n",
    "    chunks = np.lib.stride_tricks.sliding_window_view(image, window_shape=kernel.shape)\n",
    "    return np.einsum(\"hwij,ij->hw\", chunks, kernel)\n",
    "\n",
    "\n",
    "def fft_conv2d(image, kernel):\n",
    "    kernel_height, kernel_width = kernel.shape\n",
    "    padding_height, padding_width = (kernel_height - 1) // 2, (kernel_width - 1) // 2\n",
    "\n",
    "    output_shape = np.array(image.shape) + np.array(kernel.shape) - 1\n",
    "    fft_shape = 2 ** np.ceil(np.log2(output_shape)).astype(int)\n",
    "    return np.real(np.fft.ifft2(np.fft.fft2(image, fft_shape) * np.fft.fft2(kernel, fft_shape)))[\n",
    "        : output_shape[0], : output_shape[1]\n",
    "    ][padding_height:-padding_height, padding_width:-padding_width]"
   ]
  },
  {
   "cell_type": "code",
   "execution_count": null,
   "id": "667de730-74cd-47d3-b965-3b84230e2556",
   "metadata": {
    "tags": []
   },
   "outputs": [],
   "source": [
    "# symmetric\n",
    "assert np.allclose(\n",
    "    conv2d(sample_image, sample_filters[\"gaussian\"]),\n",
    "    signal.fftconvolve(sample_image, sample_filters[\"gaussian\"], mode=\"same\"),\n",
    ")\n",
    "\n",
    "assert np.allclose(\n",
    "    conv2d(sample_image, sample_filters[\"gaussian\"]), fft_conv2d(sample_image, sample_filters[\"gaussian\"])\n",
    ")\n",
    "\n",
    "# not symmetric\n",
    "assert not np.allclose(\n",
    "    conv2d(sample_image, sample_filters[\"vertical\"]),\n",
    "    signal.fftconvolve(sample_image, sample_filters[\"vertical\"], mode=\"same\"),\n",
    ")\n",
    "\n",
    "assert np.allclose(\n",
    "    conv2d(sample_image, np.rot90(sample_filters[\"vertical\"], k=2)),\n",
    "    signal.fftconvolve(sample_image, sample_filters[\"vertical\"], mode=\"same\"),\n",
    ")\n",
    "\n",
    "assert np.allclose(\n",
    "    conv2d(sample_image, np.rot90(sample_filters[\"vertical\"], k=2)),\n",
    "    fft_conv2d(sample_image, sample_filters[\"vertical\"]),\n",
    ")"
   ]
  },
  {
   "cell_type": "code",
   "execution_count": null,
   "id": "4b224901-7f88-4ee2-a54c-8128ff2369a9",
   "metadata": {
    "tags": []
   },
   "outputs": [],
   "source": [
    "%timeit conv2d(sample_image, sample_filters['vertical'])\n",
    "%timeit signal.fftconvolve(sample_image, np.rot90(sample_filters['vertical'], k=2), mode='same')\n",
    "%timeit fft_conv2d(sample_image, np.rot90(sample_filters['vertical'], k=2))"
   ]
  },
  {
   "cell_type": "markdown",
   "id": "fc970b7a-fffb-4b8a-9aff-04251f160af5",
   "metadata": {},
   "source": [
    "- [Array programming with NumPy](https://www.nature.com/articles/s41586-020-2649-2)\n",
    "- [Advanced NumPy - Scipy Lecture Notes](http://scipy-lectures.org/advanced/advanced_numpy/)\n",
    "- [An Illustrated Guide to Shape and Strides](https://ajcr.net/stride-guide-part-1/)\n",
    "- [Advanced NumPy: Master stride tricks with 25 illustrated exercises](https://towardsdatascience.com/advanced-numpy-master-stride-tricks-with-25-illustrated-exercises-923a9393ab20)\n",
    "- [Advanced NumPy | SciPy Japan 2019 Tutorial | Juan Nunuz-Iglesias](https://www.youtube.com/watch?v=cYugp9IN1-Q)\n",
    "- [Introduction to Numerical Computing with NumPy | SciPy 2019 Tutorial | Alex Chabot-Leclerc](https://www.youtube.com/watch?v=ZB7BZMhfPgk)"
   ]
  }
 ],
 "metadata": {
  "kernelspec": {
   "display_name": "Python 3 (ipykernel)",
   "language": "python",
   "name": "python3"
  },
  "language_info": {
   "codemirror_mode": {
    "name": "ipython",
    "version": 3
   },
   "file_extension": ".py",
   "mimetype": "text/x-python",
   "name": "python",
   "nbconvert_exporter": "python",
   "pygments_lexer": "ipython3",
   "version": "3.10.9"
  }
 },
 "nbformat": 4,
 "nbformat_minor": 5
}
