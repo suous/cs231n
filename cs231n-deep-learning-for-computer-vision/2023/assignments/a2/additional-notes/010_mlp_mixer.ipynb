{
 "cells": [
  {
   "cell_type": "markdown",
   "id": "9e3a66a4f63f42b",
   "metadata": {
    "collapsed": false
   },
   "source": [
    "![MLP-Mixer](https://production-media.paperswithcode.com/methods/Screen_Shot_2021-07-20_at_12.09.16_PM_aLnxO7E.png)"
   ]
  },
  {
   "cell_type": "code",
   "execution_count": null,
   "id": "initial_id",
   "metadata": {
    "collapsed": true
   },
   "outputs": [],
   "source": [
    "from pathlib import Path\n",
    "\n",
    "import torch\n",
    "import torch.nn as nn\n",
    "import torch.optim as optim\n",
    "from torch.utils.data import DataLoader\n",
    "from torch.utils.data import sampler\n",
    "import torchvision.datasets as dset\n",
    "import torchvision.transforms as T\n",
    "\n",
    "from conv import generate_output_size\n",
    "\n",
    "\n",
    "from utils import seed_everything, batch_plot, train_part_challenge, check_accuracy_part34\n",
    "\n",
    "\n",
    "device = torch.device(\"cuda\" if torch.cuda.is_available() else \"cpu\")\n",
    "seed_everything()\n",
    "\n",
    "%load_ext tensorboard"
   ]
  },
  {
   "cell_type": "code",
   "execution_count": null,
   "id": "1058214a28a6c4a4",
   "metadata": {
    "collapsed": false
   },
   "outputs": [],
   "source": [
    "class PatchEmbedding(nn.Module):\n",
    "    def __init__(self, patch_size, flatten=True):\n",
    "        super().__init__()\n",
    "        self.patch_size = patch_size\n",
    "        self.flatten = flatten\n",
    "\n",
    "    def forward(self, x):\n",
    "        # x.shape = (batch_size, channel, image_size, image_size)\n",
    "        batch_size, channel, image_height, image_width = x.shape\n",
    "        stride_batch, stride_channel, stride_height, stride_width = x.stride()\n",
    "        output_height = generate_output_size(\n",
    "            image_height, kernel_size=self.patch_size, stride=self.patch_size, padding=0\n",
    "        )\n",
    "        output_width = generate_output_size(image_width, kernel_size=self.patch_size, stride=self.patch_size, padding=0)\n",
    "\n",
    "        x = torch.as_strided(\n",
    "            x,\n",
    "            size=(batch_size, channel, output_height, output_width, self.patch_size, self.patch_size),\n",
    "            stride=(\n",
    "                stride_batch,\n",
    "                stride_channel,\n",
    "                stride_height * self.patch_size,\n",
    "                stride_width * self.patch_size,\n",
    "                stride_height,\n",
    "                stride_width,\n",
    "            ),\n",
    "        )\n",
    "        if self.flatten:\n",
    "            return x.flatten(2, 3).transpose(1, 2).flatten(2)  # (batch_size, patches, channels)\n",
    "        return x\n",
    "\n",
    "\n",
    "class MLPBlock(nn.Module):\n",
    "    def __init__(self, channels, expansion_factor, dropout_rate=0.0):\n",
    "        super().__init__()\n",
    "        expanded_channels = expansion_factor * channels\n",
    "        self.fc1 = nn.Linear(channels, expanded_channels)\n",
    "        self.gelu = nn.GELU()\n",
    "        self.fc2 = nn.Linear(expanded_channels, channels)\n",
    "        self.dropout = nn.Dropout(dropout_rate)\n",
    "\n",
    "    def forward(self, x):\n",
    "        x = self.fc1(x)\n",
    "        x = self.gelu(x)\n",
    "        x = self.dropout(x)\n",
    "        x = self.fc2(x)\n",
    "        x = self.dropout(x)\n",
    "        return x\n",
    "\n",
    "\n",
    "class MixerBlock(nn.Module):\n",
    "    def __init__(self, patches, channels, expansion_factor, dropout_rate=0.0):\n",
    "        super().__init__()\n",
    "        self.norm1 = nn.LayerNorm(channels)\n",
    "        self.mlp1 = MLPBlock(patches, expansion_factor, dropout_rate)\n",
    "        self.norm2 = nn.LayerNorm(channels)\n",
    "        self.mlp2 = MLPBlock(channels, expansion_factor, dropout_rate)\n",
    "\n",
    "    def forward(self, x):\n",
    "        # x.shape = (batch_size, patches, channels)\n",
    "        x = x + self.mlp1(self.norm1(x).transpose(1, 2)).transpose(1, 2)\n",
    "        x = x + self.mlp2(self.norm2(x))\n",
    "        return x\n",
    "\n",
    "\n",
    "class MLPMixer(nn.Module):\n",
    "    def __init__(self, image_size, patch_size, hidden, expansion_factor, num_blocks, num_classes=10, dropout_rate=0.0):\n",
    "        super().__init__()\n",
    "        self.projection = nn.Linear(patch_size**2 * 3, hidden)\n",
    "        self.patch_embedding = PatchEmbedding(patch_size)\n",
    "        self.mixer_blocks = nn.ModuleList(\n",
    "            [\n",
    "                MixerBlock(\n",
    "                    patches=(image_size // patch_size) ** 2,\n",
    "                    channels=hidden,\n",
    "                    expansion_factor=expansion_factor,\n",
    "                    dropout_rate=dropout_rate,\n",
    "                )\n",
    "                for _ in range(num_blocks)\n",
    "            ]\n",
    "        )\n",
    "        self.norm = nn.LayerNorm(hidden)\n",
    "        self.fc = nn.Linear(hidden, num_classes)\n",
    "\n",
    "    def forward(self, x):\n",
    "        x = self.patch_embedding(x)\n",
    "        x = self.projection(x)\n",
    "        for mixer_block in self.mixer_blocks:\n",
    "            x = mixer_block(x)\n",
    "        x = self.norm(x)\n",
    "        x = x.mean(dim=1)\n",
    "        x = self.fc(x)\n",
    "        return x"
   ]
  },
  {
   "cell_type": "code",
   "execution_count": null,
   "id": "38febfd51e052574",
   "metadata": {
    "collapsed": false
   },
   "outputs": [],
   "source": [
    "batch_size = 2\n",
    "channel = 3\n",
    "image_size = 32\n",
    "x = torch.randn(batch_size, channel, image_size, image_size)\n",
    "patch_size = 4\n",
    "num_patches = (image_size // patch_size) ** 2\n",
    "assert PatchEmbedding(patch_size)(x).shape == (batch_size, num_patches, channel * patch_size**2)"
   ]
  },
  {
   "cell_type": "code",
   "execution_count": null,
   "id": "34d39b166302549d",
   "metadata": {
    "collapsed": false
   },
   "outputs": [],
   "source": [
    "NUM_TRAIN = 49000\n",
    "data_path = \"../code/cs231n/datasets\"\n",
    "\n",
    "transform_train = T.Compose(\n",
    "    [T.RandomHorizontalFlip(), T.ToTensor(), T.Normalize((0.4914, 0.4822, 0.4465), (0.2023, 0.1994, 0.2010))]\n",
    ")\n",
    "\n",
    "transform = T.Compose([T.ToTensor(), T.Normalize((0.4914, 0.4822, 0.4465), (0.2023, 0.1994, 0.2010))])\n",
    "\n",
    "cifar10_train = dset.CIFAR10(data_path, train=True, download=True, transform=transform_train)\n",
    "loader_train = DataLoader(cifar10_train, batch_size=64, sampler=sampler.SubsetRandomSampler(range(NUM_TRAIN)))\n",
    "\n",
    "cifar10_val = dset.CIFAR10(data_path, train=True, download=True, transform=transform)\n",
    "loader_val = DataLoader(cifar10_val, batch_size=64, sampler=sampler.SubsetRandomSampler(range(NUM_TRAIN, 50000)))\n",
    "\n",
    "cifar10_test = dset.CIFAR10(data_path, train=False, download=True, transform=transform)\n",
    "loader_test = DataLoader(cifar10_test, batch_size=64)\n",
    "\n",
    "cifra10_visualize = dset.CIFAR10(data_path, train=True, download=True, transform=T.ToTensor())\n",
    "loader_visualize = DataLoader(\n",
    "    cifra10_visualize, batch_size=16, sampler=sampler.SubsetRandomSampler(range(NUM_TRAIN, 50000))\n",
    ")\n",
    "\n",
    "images, labels = next(iter(loader_visualize))\n",
    "batch_plot(images.permute(0, 2, 3, 1).numpy(), labels.numpy())"
   ]
  },
  {
   "cell_type": "code",
   "execution_count": null,
   "id": "b32394de6a530e7f",
   "metadata": {
    "collapsed": false
   },
   "outputs": [],
   "source": [
    "patch_size = 8\n",
    "patches = PatchEmbedding(patch_size, flatten=False)(images).permute(0, 2, 3, 4, 5, 1)\n",
    "\n",
    "for patch in patches[:4]:\n",
    "    batch_plot(\n",
    "        patch.reshape(-1, patch_size, patch_size, channel).numpy(),\n",
    "        with_border=False,\n",
    "        cmap=\"gray\",\n",
    "        tight_layout=None,\n",
    "        wspace=0.01,\n",
    "        hspace=0.01,\n",
    "        imgsize=2,\n",
    "        vmin=0,\n",
    "        vmax=1,\n",
    "    )"
   ]
  },
  {
   "cell_type": "code",
   "execution_count": null,
   "id": "9ee91e1da9a57043",
   "metadata": {
    "collapsed": false
   },
   "outputs": [],
   "source": [
    "epoch = 10\n",
    "log_dir = Path(data_path).joinpath(\"runs\")\n",
    "\n",
    "model = MLPMixer(\n",
    "    image_size=32, patch_size=4, hidden=150, expansion_factor=2, num_blocks=4, num_classes=10, dropout_rate=0.25\n",
    ")\n",
    "\n",
    "optimizer = optim.Adam(model.parameters(), lr=1e-3)\n",
    "scheduler = torch.optim.lr_scheduler.CosineAnnealingLR(optimizer, epoch)\n",
    "\n",
    "check_point_name = train_part_challenge(\n",
    "    model=model,\n",
    "    optimizer=optimizer,\n",
    "    scheduler=scheduler,\n",
    "    epochs=epoch,\n",
    "    device=device,\n",
    "    train_loader=loader_train,\n",
    "    valid_loader=loader_val,\n",
    "    log_dir=log_dir,\n",
    ")"
   ]
  },
  {
   "cell_type": "code",
   "execution_count": null,
   "id": "c68545f6bb5a3228",
   "metadata": {
    "collapsed": false
   },
   "outputs": [],
   "source": [
    "checkpoint = torch.load(check_point_name)\n",
    "print(\n",
    "    f\"best model with train accuracy: {checkpoint['train_accuracy']:.2f} and valid accuracy {checkpoint['valid_accuracy']:.2f}\"\n",
    ")\n",
    "model.load_state_dict(checkpoint[\"model_state_dict\"])\n",
    "check_accuracy_part34(loader_test, model, device=device)"
   ]
  },
  {
   "cell_type": "markdown",
   "id": "7bde4b48",
   "metadata": {},
   "source": [
    "<img src=\"images/training_process_mlp_mixer.png\">\n",
    "\n",
    "```\n",
    "best model with train accuracy: 80.81 and valid accuracy 76.10\n",
    "Checking accuracy on test set\n",
    "Got 7456 / 10000 correct (74.56)\n",
    "```"
   ]
  }
 ],
 "metadata": {
  "kernelspec": {
   "display_name": "Python 3 (ipykernel)",
   "language": "python",
   "name": "python3"
  },
  "language_info": {
   "codemirror_mode": {
    "name": "ipython",
    "version": 3
   },
   "file_extension": ".py",
   "mimetype": "text/x-python",
   "name": "python",
   "nbconvert_exporter": "python",
   "pygments_lexer": "ipython3",
   "version": "3.11.5"
  }
 },
 "nbformat": 4,
 "nbformat_minor": 5
}
