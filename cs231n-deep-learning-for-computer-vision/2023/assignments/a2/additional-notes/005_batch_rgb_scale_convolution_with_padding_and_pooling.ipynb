{
 "cells": [
  {
   "cell_type": "code",
   "execution_count": null,
   "id": "cd33b33f-6dc0-4bac-a556-465f2d46a88f",
   "metadata": {},
   "outputs": [],
   "source": [
    "import numpy as np\n",
    "import matplotlib.pyplot as plt\n",
    "from sklearn.datasets import load_sample_images\n",
    "\n",
    "from utils import batch_plot\n",
    "from conv import img2col, pooling, load_sample_filters, relu"
   ]
  },
  {
   "cell_type": "code",
   "execution_count": null,
   "id": "2ad06372-f82f-42b0-8340-fc4eacbcc5c0",
   "metadata": {},
   "outputs": [],
   "source": [
    "sample_images = np.asarray(load_sample_images().images)\n",
    "sample_images = sample_images / sample_images.max()\n",
    "\n",
    "# # for better plot\n",
    "n = 420\n",
    "sample_images = sample_images[:, :n, :n, :]\n",
    "\n",
    "batch_plot(sample_images, with_border=False, imgsize=6)"
   ]
  },
  {
   "cell_type": "markdown",
   "id": "1ee64a91-1dca-4634-9773-308dacd46439",
   "metadata": {},
   "source": [
    "# Pooling operations on images\n",
    "\n",
    "<img src=\"./images/pooling_steps.gif\">"
   ]
  },
  {
   "cell_type": "code",
   "execution_count": null,
   "id": "01feafc4-8dea-452c-b91c-50bf72987402",
   "metadata": {},
   "outputs": [],
   "source": [
    "stride, padding = 2, 0\n",
    "filter_height, filter_width = 2, 2\n",
    "batch, height, width, channel = sample_images.shape\n",
    "\n",
    "chunk_height, chunk_width = (height - filter_height + 2 * padding) // stride + 1, (\n",
    "    width - filter_width + 2 * padding\n",
    ") // stride + 1\n",
    "max_pooling_sample_images = pooling(\n",
    "    sample_images,\n",
    "    kernel_size=(filter_height, filter_width),\n",
    "    stride=stride,\n",
    "    padding=padding,\n",
    "    channel_first=False,\n",
    ")\n",
    "mean_pooling_sample_images = pooling(\n",
    "    sample_images,\n",
    "    kernel_size=(filter_height, filter_width),\n",
    "    stride=stride,\n",
    "    padding=padding,\n",
    "    mode=\"mean\",\n",
    "    channel_first=False,\n",
    ")\n",
    "\n",
    "assert max_pooling_sample_images.shape == (batch, chunk_height, chunk_width, channel)\n",
    "assert mean_pooling_sample_images.shape == (batch, chunk_height, chunk_width, channel)\n",
    "\n",
    "for images, name in zip(\n",
    "    [max_pooling_sample_images, mean_pooling_sample_images],\n",
    "    [\"max pooing\", \"mean pooling\"],\n",
    "):\n",
    "    print(name)\n",
    "    batch_plot(\n",
    "        images,\n",
    "        with_border=False,\n",
    "        tight_layout=None,\n",
    "        wspace=0.01,\n",
    "        hspace=0.01,\n",
    "        imgsize=6,\n",
    "    )"
   ]
  },
  {
   "cell_type": "markdown",
   "id": "7ac9e09a-e93f-4cd8-a32b-23d7e096185e",
   "metadata": {},
   "source": [
    "# Conv + ReLU + Pooling"
   ]
  },
  {
   "cell_type": "code",
   "execution_count": null,
   "id": "a0c27acf-2451-43bb-ad77-c60ec4c54901",
   "metadata": {},
   "outputs": [],
   "source": [
    "filter_height = filter_width = 7\n",
    "sample_filters = load_sample_filters(size=filter_height, sigma=1, channel=channel)\n",
    "filters = np.asarray(list(sample_filters.values()))\n",
    "\n",
    "stride, padding = 4, 10\n",
    "num_filters = len(filters)\n",
    "_, filter_height, filter_width, _ = filters.shape\n",
    "\n",
    "batch, height, width, channel = sample_images.shape\n",
    "\n",
    "chunk_height, chunk_width = (height - filter_height + 2 * padding) // stride + 1, (\n",
    "    width - filter_width + 2 * padding\n",
    ") // stride + 1\n",
    "\n",
    "filtered_sample_images = (\n",
    "    img2col(\n",
    "        sample_images,\n",
    "        kernel_size=(filter_height, filter_width),\n",
    "        stride=stride,\n",
    "        padding=padding,\n",
    "        channel_first=False,\n",
    "    )\n",
    "    @ filters.reshape((num_filters, filter_height * filter_width * channel)).T\n",
    ")\n",
    "filtered_sample_images = filtered_sample_images.reshape((batch, chunk_height, chunk_width, num_filters)).transpose(\n",
    "    (0, 3, 1, 2)\n",
    ")\n",
    "\n",
    "assert filtered_sample_images.shape == (batch, num_filters, chunk_height, chunk_width)\n",
    "\n",
    "for filtered_sample_image in filtered_sample_images:\n",
    "    batch_plot(\n",
    "        filtered_sample_image,\n",
    "        list(sample_filters.keys()),\n",
    "        with_border=False,\n",
    "        cmap=plt.cm.gray,\n",
    "        tight_layout=None,\n",
    "        wspace=0.1,\n",
    "        hspace=0.1,\n",
    "        imgsize=6,\n",
    "    )"
   ]
  },
  {
   "cell_type": "code",
   "execution_count": null,
   "id": "6908d5e5-9ed5-4bb8-8106-1cf3b444df5e",
   "metadata": {},
   "outputs": [],
   "source": [
    "activated_sample_images = relu(filtered_sample_images)\n",
    "\n",
    "assert activated_sample_images.shape == (batch, num_filters, chunk_height, chunk_width)\n",
    "\n",
    "for activated_sample_image in activated_sample_images:\n",
    "    batch_plot(\n",
    "        activated_sample_image,\n",
    "        list(sample_filters.keys()),\n",
    "        with_border=False,\n",
    "        cmap=plt.cm.gray,\n",
    "        tight_layout=None,\n",
    "        wspace=0.1,\n",
    "        hspace=0.1,\n",
    "        imgsize=6,\n",
    "    )"
   ]
  },
  {
   "cell_type": "code",
   "execution_count": null,
   "id": "04ef2a75-df8f-467e-8b35-4be2ea939e24",
   "metadata": {},
   "outputs": [],
   "source": [
    "stride, padding = 2, 0\n",
    "filter_height, filter_width = 2, 2\n",
    "\n",
    "pooling_sample_images = pooling(\n",
    "    activated_sample_images.transpose((0, 2, 3, 1)),\n",
    "    kernel_size=(filter_height, filter_width),\n",
    "    stride=stride,\n",
    "    padding=padding,\n",
    "    channel_first=False,\n",
    ")\n",
    "pooling_sample_images = pooling_sample_images.transpose((0, 3, 1, 2))\n",
    "\n",
    "for pooling_sample_image in pooling_sample_images:\n",
    "    batch_plot(\n",
    "        pooling_sample_image,\n",
    "        list(sample_filters.keys()),\n",
    "        with_border=False,\n",
    "        cmap=plt.cm.gray,\n",
    "        tight_layout=None,\n",
    "        wspace=0.1,\n",
    "        hspace=0.1,\n",
    "        imgsize=6,\n",
    "    )"
   ]
  },
  {
   "cell_type": "markdown",
   "id": "a8284068-3079-4221-9e85-12b69768680f",
   "metadata": {},
   "source": [
    "- [An Intuitive Explanation of Convolutional Neural Networks](https://ujjwalkarn.me/2016/08/11/intuitive-explanation-convnets/)\n",
    "- [A Beginner’s Guide To Understanding Convolutional Neural Networks](https://adeshpande3.github.io/A-Beginner's-Guide-To-Understanding-Convolutional-Neural-Networks/)"
   ]
  }
 ],
 "metadata": {
  "kernelspec": {
   "display_name": "Python 3 (ipykernel)",
   "language": "python",
   "name": "python3"
  },
  "language_info": {
   "codemirror_mode": {
    "name": "ipython",
    "version": 3
   },
   "file_extension": ".py",
   "mimetype": "text/x-python",
   "name": "python",
   "nbconvert_exporter": "python",
   "pygments_lexer": "ipython3",
   "version": "3.10.9"
  }
 },
 "nbformat": 4,
 "nbformat_minor": 5
}
