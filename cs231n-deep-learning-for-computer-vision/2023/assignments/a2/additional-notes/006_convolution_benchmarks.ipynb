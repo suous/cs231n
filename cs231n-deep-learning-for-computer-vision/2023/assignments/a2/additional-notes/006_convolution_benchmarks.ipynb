{
 "cells": [
  {
   "cell_type": "code",
   "execution_count": null,
   "id": "3bc7a044-f025-4c0b-814a-6ae2cbb1bb53",
   "metadata": {
    "tags": []
   },
   "outputs": [],
   "source": [
    "import numpy as np\n",
    "from argparse import Namespace\n",
    "import matplotlib.pyplot as plt\n",
    "\n",
    "from bench import Convolution\n",
    "\n",
    "\n",
    "%load_ext autoreload\n",
    "%autoreload 2"
   ]
  },
  {
   "cell_type": "code",
   "execution_count": null,
   "outputs": [],
   "source": [
    "configs = Namespace(\n",
    "    padding=\"same\",\n",
    "    batch_size=8,\n",
    "    image_height=64,\n",
    "    image_width=64,\n",
    "    image_channels=4,\n",
    "    num_kernels=16,\n",
    "    small_kernel_height=3,\n",
    "    small_kernel_width=3,\n",
    "    large_kernel_height=19,\n",
    "    large_kernel_width=19,\n",
    "    conv_methods=[\"naive\", \"fft\", \"tensordot\", \"einsum\", \"img2col\"],\n",
    ")\n",
    "\n",
    "\n",
    "def test_and_bench(x, w, convs):\n",
    "    c1 = convs[0](x, w)\n",
    "    for c in convs[1:]:\n",
    "        o = c(x, w)\n",
    "        if c.padding == \"same\" and x.ndim == 2 and o.ndim == 2:\n",
    "            assert x.shape == o.shape, f\"same padding should maintain shape. but {x.shape} != {o.shape}\"\n",
    "        np.testing.assert_allclose(c1, o)\n",
    "\n",
    "    times = {}\n",
    "    for c in convs:\n",
    "        print(f'{\"=\"*20}  {c}')\n",
    "        t = %timeit -o c(x, w)\n",
    "        times[c.method] = t.average * 1e3  # millisecond\n",
    "    return times\n",
    "\n",
    "\n",
    "def plot_run_time(bench, width=0.15, kernels=None):\n",
    "    if kernels is None:\n",
    "        kernels = [\"small kernel\", \"large kernel\"]\n",
    "\n",
    "    bench_values = np.asarray(list(bench.values()))\n",
    "    min_small_kernel_index = np.argmin(bench_values[:, 0])\n",
    "    min_large_kernel_index = np.argmin(bench_values[:, 1])\n",
    "    min_small_kernel_method = list(bench.keys())[min_small_kernel_index]\n",
    "    min_large_kernel_method = list(bench.keys())[min_large_kernel_index]\n",
    "\n",
    "    locations = np.arange(len(kernels))\n",
    "    fig, ax1 = plt.subplots(layout=\"constrained\")\n",
    "    ax2 = ax1.twinx()\n",
    "    for multiplier, (method, measurement) in enumerate(bench.items()):\n",
    "        offset = width * multiplier\n",
    "        rec1 = ax1.bar(locations[0] + offset, measurement[0], width, label=method)\n",
    "        rec2 = ax2.bar(locations[1] + offset, measurement[1], width, label=method)\n",
    "        ax1.bar_label(rec1, padding=3, fmt=lambda _: method if method == min_small_kernel_method else \"\")\n",
    "        ax2.bar_label(rec2, padding=3, fmt=lambda _: method if method == min_large_kernel_method else \"\")\n",
    "\n",
    "    ax1.set_ylabel(\"Small Kernel Avg Run Time (ms)\")\n",
    "    ax2.set_ylabel(\"Large Kernel Avg Run Time (ms)\")\n",
    "    ax1.set_xticks(locations + 2 * width, kernels)\n",
    "    ax1.legend(loc=\"upper left\", ncols=1)\n",
    "    plt.show()\n",
    "\n",
    "\n",
    "assert np.all(\n",
    "    np.asarray(\n",
    "        [\n",
    "            configs.small_kernel_height,\n",
    "            configs.small_kernel_width,\n",
    "            configs.large_kernel_height,\n",
    "            configs.large_kernel_width,\n",
    "        ]\n",
    "    )\n",
    "    % 2\n",
    "    == 1\n",
    "), \"filter size should be odd.\""
   ],
   "metadata": {
    "collapsed": false
   },
   "id": "279e7d7cbe2d9ffc"
  },
  {
   "cell_type": "markdown",
   "id": "fecb403e-0f75-4871-9383-9a37c8cd4a6c",
   "metadata": {
    "tags": []
   },
   "source": [
    "# 1. gray scale\n",
    "\n",
    "## 1.1 single instance single kernel\n",
    "\n",
    "### 1.1.1 small size kernel"
   ]
  },
  {
   "cell_type": "code",
   "execution_count": null,
   "id": "bf4abfac-3770-4f8b-91d8-8f0e45e2dc02",
   "metadata": {
    "tags": []
   },
   "outputs": [],
   "source": [
    "convs = [Convolution(padding=configs.padding, method=method, channel=None) for method in configs.conv_methods]\n",
    "\n",
    "x = np.random.uniform(size=(configs.image_height, configs.image_width))\n",
    "w = np.random.uniform(size=(configs.small_kernel_height, configs.small_kernel_width))\n",
    "\n",
    "small_kernel_bench = test_and_bench(x, w, convs)"
   ]
  },
  {
   "cell_type": "markdown",
   "id": "c74e5667-5f6c-45c7-aa76-6dbd63812c9f",
   "metadata": {},
   "source": [
    "### 1.1.2 large size kernel"
   ]
  },
  {
   "cell_type": "code",
   "execution_count": null,
   "id": "8d07bbc7-7dec-464b-9032-15021bb44681",
   "metadata": {
    "tags": []
   },
   "outputs": [],
   "source": [
    "x = np.random.uniform(size=(configs.image_height, configs.image_width))\n",
    "w = np.random.uniform(size=(configs.large_kernel_height, configs.large_kernel_width))\n",
    "\n",
    "large_kernel_bench = test_and_bench(x, w, convs)"
   ]
  },
  {
   "cell_type": "markdown",
   "source": [
    "### 1.1.3 draw run time"
   ],
   "metadata": {
    "collapsed": false
   },
   "id": "dc6552cb2b57ea85"
  },
  {
   "cell_type": "code",
   "execution_count": null,
   "outputs": [],
   "source": [
    "bench = {m: [small_kernel_bench[m], large_kernel_bench[m]] for m in configs.conv_methods}\n",
    "plot_run_time(bench)"
   ],
   "metadata": {
    "collapsed": false
   },
   "id": "d5b12cd09c6b490d"
  },
  {
   "cell_type": "markdown",
   "id": "f9678028-5438-4beb-8063-f5f63ea341be",
   "metadata": {},
   "source": [
    "## 1.2 multi instance single kernel"
   ]
  },
  {
   "cell_type": "markdown",
   "id": "ba969bd4-e7ca-44c4-b9ed-0c4c73bb88c8",
   "metadata": {},
   "source": [
    "### 1.2.1 small size kernel"
   ]
  },
  {
   "cell_type": "code",
   "execution_count": null,
   "id": "1fade5e7-e0c9-444a-bd2e-c6825e525619",
   "metadata": {
    "tags": []
   },
   "outputs": [],
   "source": [
    "x = np.random.uniform(size=(configs.batch_size, configs.image_height, configs.image_width))\n",
    "w = np.random.uniform(size=(configs.small_kernel_height, configs.small_kernel_width))\n",
    "\n",
    "small_kernel_bench = test_and_bench(x, w, convs)"
   ]
  },
  {
   "cell_type": "markdown",
   "id": "09e4fcca-1fa5-45c1-8bc8-9b20df0e8c8f",
   "metadata": {},
   "source": [
    "### 1.2.2 large size kernel"
   ]
  },
  {
   "cell_type": "code",
   "execution_count": null,
   "id": "4639c49b-2b41-4d4b-a7c1-4432e82d6fe8",
   "metadata": {
    "tags": []
   },
   "outputs": [],
   "source": [
    "x = np.random.uniform(size=(configs.batch_size, configs.image_height, configs.image_width))\n",
    "w = np.random.uniform(size=(configs.large_kernel_height, configs.large_kernel_width))\n",
    "\n",
    "large_kernel_bench = test_and_bench(x, w, convs)"
   ]
  },
  {
   "cell_type": "markdown",
   "source": [
    "### 1.2.3 draw run time"
   ],
   "metadata": {
    "collapsed": false
   },
   "id": "7439b1f90fd70a4d"
  },
  {
   "cell_type": "code",
   "execution_count": null,
   "outputs": [],
   "source": [
    "bench = {m: [small_kernel_bench[m], large_kernel_bench[m]] for m in configs.conv_methods}\n",
    "plot_run_time(bench)"
   ],
   "metadata": {
    "collapsed": false
   },
   "id": "a9206622fdc08dd7"
  },
  {
   "cell_type": "markdown",
   "id": "2bcdc563-16fa-4066-93fb-eeb93c81a30f",
   "metadata": {},
   "source": [
    "## 1.3 multi instance multi kernels"
   ]
  },
  {
   "cell_type": "markdown",
   "id": "97f1283b-5a9a-4157-b8ed-825b5d83362c",
   "metadata": {},
   "source": [
    "### 1.3.1 small size kernel"
   ]
  },
  {
   "cell_type": "code",
   "execution_count": null,
   "id": "f9d21405-59e5-4f71-b8b4-b98835c94a27",
   "metadata": {
    "tags": []
   },
   "outputs": [],
   "source": [
    "x = np.random.uniform(size=(configs.batch_size, configs.image_height, configs.image_width))\n",
    "w = np.random.uniform(size=(configs.num_kernels, configs.small_kernel_height, configs.small_kernel_width))\n",
    "\n",
    "small_kernel_bench = test_and_bench(x, w, convs)"
   ]
  },
  {
   "cell_type": "markdown",
   "id": "e9b97a7a-6028-4a82-8fe4-f754f907a59e",
   "metadata": {},
   "source": [
    "### 1.3.2 large size kernel"
   ]
  },
  {
   "cell_type": "code",
   "execution_count": null,
   "id": "d51848ef-c811-4c2f-a792-40584999bb73",
   "metadata": {
    "tags": []
   },
   "outputs": [],
   "source": [
    "x = np.random.uniform(size=(configs.batch_size, configs.image_height, configs.image_width))\n",
    "w = np.random.uniform(size=(configs.num_kernels, configs.large_kernel_height, configs.large_kernel_width))\n",
    "\n",
    "large_kernel_bench = test_and_bench(x, w, convs)"
   ]
  },
  {
   "cell_type": "markdown",
   "source": [
    "### 1.3.3 draw run time"
   ],
   "metadata": {
    "collapsed": false
   },
   "id": "ec73a0a24ae5e76"
  },
  {
   "cell_type": "code",
   "execution_count": null,
   "outputs": [],
   "source": [
    "bench = {m: [small_kernel_bench[m], large_kernel_bench[m]] for m in configs.conv_methods}\n",
    "plot_run_time(bench)"
   ],
   "metadata": {
    "collapsed": false
   },
   "id": "777565f7af3e7509"
  },
  {
   "cell_type": "markdown",
   "id": "1574f0e0-c691-4a5a-bd1a-3a74a8bea8f4",
   "metadata": {
    "tags": []
   },
   "source": [
    "# 2. rgb scale (channel first)\n",
    "\n",
    "## 2.1 single instance single kernel\n",
    "\n",
    "### 2.1.1 small size kernel"
   ]
  },
  {
   "cell_type": "code",
   "execution_count": null,
   "id": "91ac5652-9420-4b35-ac6e-8353e65367ed",
   "metadata": {
    "tags": []
   },
   "outputs": [],
   "source": [
    "convs = [Convolution(padding=configs.padding, method=method, channel=\"first\") for method in configs.conv_methods]\n",
    "\n",
    "x = np.random.uniform(size=(configs.image_channels, configs.image_height, configs.image_width))\n",
    "w = np.random.uniform(size=(configs.image_channels, configs.small_kernel_height, configs.small_kernel_width))\n",
    "\n",
    "small_kernel_bench = test_and_bench(x, w, convs)"
   ]
  },
  {
   "cell_type": "markdown",
   "source": [
    "### 2.1.2 large size kernel"
   ],
   "metadata": {
    "collapsed": false
   },
   "id": "78773538fb4c2206"
  },
  {
   "cell_type": "code",
   "execution_count": null,
   "outputs": [],
   "source": [
    "x = np.random.uniform(size=(configs.image_channels, configs.image_height, configs.image_width))\n",
    "w = np.random.uniform(size=(configs.image_channels, configs.large_kernel_height, configs.large_kernel_width))\n",
    "\n",
    "large_kernel_bench = test_and_bench(x, w, convs)"
   ],
   "metadata": {
    "collapsed": false
   },
   "id": "55ab17acc45c1e55"
  },
  {
   "cell_type": "markdown",
   "source": [
    "### 2.1.3 draw run time"
   ],
   "metadata": {
    "collapsed": false
   },
   "id": "404fe962d3b0f9ee"
  },
  {
   "cell_type": "code",
   "execution_count": null,
   "outputs": [],
   "source": [
    "bench = {m: [small_kernel_bench[m], large_kernel_bench[m]] for m in configs.conv_methods}\n",
    "plot_run_time(bench)"
   ],
   "metadata": {
    "collapsed": false
   },
   "id": "582f9d17d2718514"
  },
  {
   "cell_type": "markdown",
   "id": "c6da40d9-f39e-49f6-b24f-c70b2d10d2f1",
   "metadata": {},
   "source": [
    "## 2.2 multi instance single kernel"
   ]
  },
  {
   "cell_type": "markdown",
   "id": "f62a3f9b-97ca-4577-ad06-dc3242f61b76",
   "metadata": {},
   "source": [
    "### 2.2.1 small size kernel"
   ]
  },
  {
   "cell_type": "code",
   "execution_count": null,
   "id": "1b1b4137-a2e9-4a27-9ce7-25d97b8ed6e9",
   "metadata": {
    "tags": []
   },
   "outputs": [],
   "source": [
    "x = np.random.uniform(size=(configs.batch_size, configs.image_channels, configs.image_height, configs.image_width))\n",
    "w = np.random.uniform(size=(configs.image_channels, configs.small_kernel_height, configs.small_kernel_width))\n",
    "\n",
    "small_kernel_bench = test_and_bench(x, w, convs)"
   ]
  },
  {
   "cell_type": "markdown",
   "source": [
    "### 2.2.2 large size kernel"
   ],
   "metadata": {
    "collapsed": false
   },
   "id": "93825186e0e07160"
  },
  {
   "cell_type": "code",
   "execution_count": null,
   "outputs": [],
   "source": [
    "x = np.random.uniform(size=(configs.batch_size, configs.image_channels, configs.image_height, configs.image_width))\n",
    "w = np.random.uniform(size=(configs.image_channels, configs.large_kernel_height, configs.large_kernel_width))\n",
    "\n",
    "large_kernel_bench = test_and_bench(x, w, convs)"
   ],
   "metadata": {
    "collapsed": false
   },
   "id": "2f5b3fbd144c36e1"
  },
  {
   "cell_type": "markdown",
   "source": [
    "### 2.2.3 draw run time"
   ],
   "metadata": {
    "collapsed": false
   },
   "id": "6d271bd546e0b836"
  },
  {
   "cell_type": "code",
   "execution_count": null,
   "outputs": [],
   "source": [
    "bench = {m: [small_kernel_bench[m], large_kernel_bench[m]] for m in configs.conv_methods}\n",
    "plot_run_time(bench)"
   ],
   "metadata": {
    "collapsed": false
   },
   "id": "f68f0009ea835061"
  },
  {
   "cell_type": "markdown",
   "id": "424a3800-6d93-401d-8094-346d6fab3151",
   "metadata": {},
   "source": [
    "## 2.3 multi instance multi kernels"
   ]
  },
  {
   "cell_type": "markdown",
   "id": "0283bec0-9980-48b1-b527-d08d2bfb9406",
   "metadata": {},
   "source": [
    "### 2.3.1 small size kernel"
   ]
  },
  {
   "cell_type": "code",
   "execution_count": null,
   "id": "4b60a019-a2f6-4c9b-ba0e-d01aa9ed1d8f",
   "metadata": {
    "tags": []
   },
   "outputs": [],
   "source": [
    "x = np.random.uniform(size=(configs.batch_size, configs.image_channels, configs.image_height, configs.image_width))\n",
    "w = np.random.uniform(\n",
    "    size=(configs.num_kernels, configs.image_channels, configs.small_kernel_height, configs.small_kernel_width)\n",
    ")\n",
    "\n",
    "small_kernel_bench = test_and_bench(x, w, convs[1:])"
   ]
  },
  {
   "cell_type": "markdown",
   "source": [
    "### 2.3.2 large size kernel"
   ],
   "metadata": {
    "collapsed": false
   },
   "id": "1e526cba35bd14ef"
  },
  {
   "cell_type": "code",
   "execution_count": null,
   "outputs": [],
   "source": [
    "x = np.random.uniform(size=(configs.batch_size, configs.image_channels, configs.image_height, configs.image_width))\n",
    "w = np.random.uniform(\n",
    "    size=(configs.num_kernels, configs.image_channels, configs.large_kernel_height, configs.large_kernel_width)\n",
    ")\n",
    "\n",
    "large_kernel_bench = test_and_bench(x, w, convs[1:])"
   ],
   "metadata": {
    "collapsed": false
   },
   "id": "5883a305f70f225d"
  },
  {
   "cell_type": "markdown",
   "source": [
    "### 2.3.3 draw run time"
   ],
   "metadata": {
    "collapsed": false
   },
   "id": "8756396801e4ab94"
  },
  {
   "cell_type": "code",
   "execution_count": null,
   "outputs": [],
   "source": [
    "bench = {m: [small_kernel_bench[m], large_kernel_bench[m]] for m in configs.conv_methods[1:]}\n",
    "plot_run_time(bench)"
   ],
   "metadata": {
    "collapsed": false
   },
   "id": "797ea41b07981b2a"
  },
  {
   "cell_type": "markdown",
   "id": "1fa649dd-ad73-4b1e-9185-37c4feb28c1b",
   "metadata": {
    "tags": []
   },
   "source": [
    "# 3. rgb scale (channel last)\n",
    "\n",
    "## 3.1 single instance single kernel\n",
    "\n",
    "### 3.1.1 small size kernel"
   ]
  },
  {
   "cell_type": "code",
   "execution_count": null,
   "id": "eeffe2ff-e9be-4f72-9bb2-ad8bc1034361",
   "metadata": {
    "tags": []
   },
   "outputs": [],
   "source": [
    "convs = [Convolution(padding=configs.padding, method=method, channel=\"last\") for method in configs.conv_methods]\n",
    "\n",
    "x = np.random.uniform(size=(configs.image_height, configs.image_width, configs.image_channels))\n",
    "w = np.random.uniform(size=(configs.small_kernel_height, configs.small_kernel_width, configs.image_channels))\n",
    "\n",
    "small_kernel_bench = test_and_bench(x, w, convs)"
   ]
  },
  {
   "cell_type": "markdown",
   "source": [
    "### 3.1.2 large size kernel"
   ],
   "metadata": {
    "collapsed": false
   },
   "id": "68d6ed51c20df448"
  },
  {
   "cell_type": "code",
   "execution_count": null,
   "outputs": [],
   "source": [
    "x = np.random.uniform(size=(configs.image_height, configs.image_width, configs.image_channels))\n",
    "w = np.random.uniform(size=(configs.large_kernel_height, configs.large_kernel_width, configs.image_channels))\n",
    "\n",
    "large_kernel_bench = test_and_bench(x, w, convs)"
   ],
   "metadata": {
    "collapsed": false
   },
   "id": "528f5656a40cf51f"
  },
  {
   "cell_type": "markdown",
   "source": [
    "### 3.1.3 draw run time"
   ],
   "metadata": {
    "collapsed": false
   },
   "id": "8f470cb43b79bc60"
  },
  {
   "cell_type": "code",
   "execution_count": null,
   "outputs": [],
   "source": [
    "bench = {m: [small_kernel_bench[m], large_kernel_bench[m]] for m in configs.conv_methods}\n",
    "plot_run_time(bench)"
   ],
   "metadata": {
    "collapsed": false
   },
   "id": "90e37a9e0ea430c1"
  },
  {
   "cell_type": "markdown",
   "id": "488c9008-4ef4-4225-90ad-0b29db603bf3",
   "metadata": {},
   "source": [
    "## 3.2 multi instance single kernel"
   ]
  },
  {
   "cell_type": "markdown",
   "id": "bc8746d8-9a61-4da1-95dc-121b4e7cd823",
   "metadata": {},
   "source": [
    "### 3.2.1 small size kernel"
   ]
  },
  {
   "cell_type": "code",
   "execution_count": null,
   "id": "d54b6165-183c-46ea-8403-9142db32f11a",
   "metadata": {
    "tags": []
   },
   "outputs": [],
   "source": [
    "x = np.random.uniform(size=(configs.batch_size, configs.image_height, configs.image_width, configs.image_channels))\n",
    "w = np.random.uniform(size=(configs.small_kernel_height, configs.small_kernel_width, configs.image_channels))\n",
    "\n",
    "small_kernel_bench = test_and_bench(x, w, convs)"
   ]
  },
  {
   "cell_type": "markdown",
   "source": [
    "### 3.2.2 large size kernel"
   ],
   "metadata": {
    "collapsed": false
   },
   "id": "9a1da714e4f33466"
  },
  {
   "cell_type": "code",
   "execution_count": null,
   "outputs": [],
   "source": [
    "x = np.random.uniform(size=(configs.batch_size, configs.image_height, configs.image_width, configs.image_channels))\n",
    "w = np.random.uniform(size=(configs.large_kernel_height, configs.large_kernel_width, configs.image_channels))\n",
    "\n",
    "large_kernel_bench = test_and_bench(x, w, convs)"
   ],
   "metadata": {
    "collapsed": false
   },
   "id": "9e0520ef6a8a5ea2"
  },
  {
   "cell_type": "markdown",
   "source": [
    "### 3.2.3 draw run time"
   ],
   "metadata": {
    "collapsed": false
   },
   "id": "c8ac36b602c30e9c"
  },
  {
   "cell_type": "code",
   "execution_count": null,
   "outputs": [],
   "source": [
    "bench = {m: [small_kernel_bench[m], large_kernel_bench[m]] for m in configs.conv_methods}\n",
    "plot_run_time(bench)"
   ],
   "metadata": {
    "collapsed": false
   },
   "id": "62aa79063016ca32"
  },
  {
   "cell_type": "markdown",
   "id": "5063b908-3569-457f-8f12-d43a96f9a1ea",
   "metadata": {
    "tags": []
   },
   "source": [
    "## 3.3 multi instance multi kernels"
   ]
  },
  {
   "cell_type": "markdown",
   "id": "4260b55a-7678-4c6c-b479-f016abde508b",
   "metadata": {},
   "source": [
    "### 3.3.1 small size kernel"
   ]
  },
  {
   "cell_type": "code",
   "execution_count": null,
   "id": "df47fc99-3db3-475e-94a0-c6253527e90a",
   "metadata": {
    "tags": []
   },
   "outputs": [],
   "source": [
    "x = np.random.uniform(size=(configs.batch_size, configs.image_height, configs.image_width, configs.image_channels))\n",
    "w = np.random.uniform(\n",
    "    size=(configs.num_kernels, configs.small_kernel_height, configs.small_kernel_width, configs.image_channels)\n",
    ")\n",
    "\n",
    "small_kernel_bench = test_and_bench(x, w, convs[1:])"
   ]
  },
  {
   "cell_type": "markdown",
   "source": [
    "### 3.3.2 large size kernel"
   ],
   "metadata": {
    "collapsed": false
   },
   "id": "dea97dcbd9b2e547"
  },
  {
   "cell_type": "code",
   "execution_count": null,
   "outputs": [],
   "source": [
    "x = np.random.uniform(size=(configs.batch_size, configs.image_height, configs.image_width, configs.image_channels))\n",
    "w = np.random.uniform(\n",
    "    size=(configs.num_kernels, configs.large_kernel_height, configs.large_kernel_width, configs.image_channels)\n",
    ")\n",
    "\n",
    "large_kernel_bench = test_and_bench(x, w, convs[1:])"
   ],
   "metadata": {
    "collapsed": false
   },
   "id": "5e598d9b2ef39b02"
  },
  {
   "cell_type": "markdown",
   "source": [
    "### 3.3.3 draw run time"
   ],
   "metadata": {
    "collapsed": false
   },
   "id": "bfa5b473d7b0ca39"
  },
  {
   "cell_type": "code",
   "execution_count": null,
   "outputs": [],
   "source": [
    "bench = {m: [small_kernel_bench[m], large_kernel_bench[m]] for m in configs.conv_methods[1:]}\n",
    "plot_run_time(bench)"
   ],
   "metadata": {
    "collapsed": false
   },
   "id": "c67e4f0f5912206c"
  }
 ],
 "metadata": {
  "kernelspec": {
   "display_name": "Python 3 (ipykernel)",
   "language": "python",
   "name": "python3"
  },
  "language_info": {
   "codemirror_mode": {
    "name": "ipython",
    "version": 3
   },
   "file_extension": ".py",
   "mimetype": "text/x-python",
   "name": "python",
   "nbconvert_exporter": "python",
   "pygments_lexer": "ipython3",
   "version": "3.10.9"
  }
 },
 "nbformat": 4,
 "nbformat_minor": 5
}
