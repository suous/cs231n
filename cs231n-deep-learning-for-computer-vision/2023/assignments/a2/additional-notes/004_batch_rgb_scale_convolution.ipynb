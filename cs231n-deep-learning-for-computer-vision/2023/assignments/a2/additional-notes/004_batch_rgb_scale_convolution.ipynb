{
 "cells": [
  {
   "cell_type": "code",
   "execution_count": null,
   "id": "cd33b33f-6dc0-4bac-a556-465f2d46a88f",
   "metadata": {},
   "outputs": [],
   "source": [
    "import numpy as np\n",
    "import matplotlib.pyplot as plt\n",
    "from sklearn.datasets import load_sample_images\n",
    "\n",
    "from utils import batch_plot\n",
    "from conv import load_sample_filters"
   ]
  },
  {
   "cell_type": "code",
   "execution_count": null,
   "id": "2ad06372-f82f-42b0-8340-fc4eacbcc5c0",
   "metadata": {},
   "outputs": [],
   "source": [
    "sample_images = np.asarray(load_sample_images().images)\n",
    "sample_images = sample_images / sample_images.max()\n",
    "\n",
    "# for better plot\n",
    "n = 420\n",
    "sample_images = sample_images[:, :n, :n, :]\n",
    "\n",
    "batch_plot(sample_images, with_border=False, imgsize=6)"
   ]
  },
  {
   "cell_type": "markdown",
   "id": "7ddd5441-a382-4add-a925-6fded4fe1d52",
   "metadata": {
    "tags": []
   },
   "source": [
    "# Generate sliding window views of the image"
   ]
  },
  {
   "cell_type": "code",
   "execution_count": null,
   "id": "5a9c29dc-1af7-4486-a2c6-59eefb51e3ce",
   "metadata": {},
   "outputs": [],
   "source": [
    "# example of using numpy sliding_window_view: stride=1\n",
    "batch, height, width, channel, window, stride, filters = 4, 7, 7, 3, 3, 1, 1\n",
    "x = np.arange(batch * height * width * channel).reshape((batch, height, width, channel))\n",
    "y = np.lib.stride_tricks.sliding_window_view(x, window_shape=(filters, window, window, channel)).squeeze(axis=(3, 4))\n",
    "\n",
    "# (height - window)/stride + 1 = chunk_height\n",
    "chunk_height, chunk_width = (height - window) // stride + 1, (width - window) // stride + 1\n",
    "assert y.shape == (batch, chunk_height, chunk_width, window, window, channel)\n",
    "\n",
    "# # low level operation\n",
    "stride = 1\n",
    "stride_batch, stride_height, stride_width, stride_channel = x.strides\n",
    "z = np.lib.stride_tricks.as_strided(\n",
    "    x,\n",
    "    shape=(batch, chunk_height, chunk_width, window, window, channel),\n",
    "    strides=(\n",
    "        stride_batch,\n",
    "        stride * stride_height,\n",
    "        stride * stride_width,\n",
    "        stride_height,\n",
    "        stride_width,\n",
    "        stride_channel,\n",
    "    ),\n",
    ")\n",
    "assert np.allclose(y, z)"
   ]
  },
  {
   "cell_type": "code",
   "execution_count": null,
   "id": "46bf9b28-fe90-48e9-9006-ae2e06b63b4f",
   "metadata": {},
   "outputs": [],
   "source": [
    "# plot nxn views of the image\n",
    "n = 4\n",
    "batch, height, width, channel = sample_images.shape\n",
    "num_stride_height, num_stride_width = height // n, width // n\n",
    "chunk_height, chunk_width = n, n\n",
    "stride_batch, stride_height, stride_width, stride_channel = sample_images.strides\n",
    "# (height - filter_height)/stride + 1 = chunk_height\n",
    "filter_height, filter_width = height - num_stride_height * (chunk_height - 1), width - num_stride_width * (\n",
    "    chunk_width - 1\n",
    ")\n",
    "chunks = np.lib.stride_tricks.as_strided(\n",
    "    sample_images,\n",
    "    shape=(batch, chunk_height, chunk_width, filter_height, filter_width, channel),\n",
    "    strides=(\n",
    "        stride_batch,\n",
    "        num_stride_height * stride_height,\n",
    "        num_stride_width * stride_width,\n",
    "        stride_height,\n",
    "        stride_width,\n",
    "        stride_channel,\n",
    "    ),\n",
    ")\n",
    "assert chunks.shape == (\n",
    "    batch,\n",
    "    chunk_height,\n",
    "    chunk_width,\n",
    "    filter_height,\n",
    "    filter_width,\n",
    "    channel,\n",
    ")"
   ]
  },
  {
   "cell_type": "code",
   "execution_count": 12,
   "id": "8b255f2a-3ae8-4957-8a0a-4b89c64ff84c",
   "metadata": {
    "ExecuteTime": {
     "end_time": "2023-09-06T07:44:18.978902Z",
     "start_time": "2023-09-06T07:44:07.779623Z"
    }
   },
   "outputs": [
    {
     "name": "stdout",
     "output_type": "stream",
     "text": [
      "Error in callback <function _draw_all_if_interactive at 0x11dd1d260> (for post_execute):\n"
     ]
    },
    {
     "name": "stderr",
     "output_type": "stream",
     "text": [
      "\n",
      "KeyboardInterrupt\n",
      "\n",
      "\n",
      "KeyboardInterrupt\n",
      "\n"
     ]
    },
    {
     "ename": "ValueError",
     "evalue": "Image size of 82800x82800 pixels is too large. It must be less than 2^16 in each direction.",
     "output_type": "error",
     "traceback": [
      "\u001B[0;31m---------------------------------------------------------------------------\u001B[0m",
      "\u001B[0;31mValueError\u001B[0m                                Traceback (most recent call last)",
      "File \u001B[0;32m~/micromamba/envs/cs231n/lib/python3.11/site-packages/IPython/core/formatters.py:340\u001B[0m, in \u001B[0;36mBaseFormatter.__call__\u001B[0;34m(self, obj)\u001B[0m\n\u001B[1;32m    338\u001B[0m     \u001B[38;5;28;01mpass\u001B[39;00m\n\u001B[1;32m    339\u001B[0m \u001B[38;5;28;01melse\u001B[39;00m:\n\u001B[0;32m--> 340\u001B[0m     \u001B[38;5;28;01mreturn\u001B[39;00m \u001B[43mprinter\u001B[49m\u001B[43m(\u001B[49m\u001B[43mobj\u001B[49m\u001B[43m)\u001B[49m\n\u001B[1;32m    341\u001B[0m \u001B[38;5;66;03m# Finally look for special method names\u001B[39;00m\n\u001B[1;32m    342\u001B[0m method \u001B[38;5;241m=\u001B[39m get_real_method(obj, \u001B[38;5;28mself\u001B[39m\u001B[38;5;241m.\u001B[39mprint_method)\n",
      "File \u001B[0;32m~/micromamba/envs/cs231n/lib/python3.11/site-packages/IPython/core/pylabtools.py:152\u001B[0m, in \u001B[0;36mprint_figure\u001B[0;34m(fig, fmt, bbox_inches, base64, **kwargs)\u001B[0m\n\u001B[1;32m    149\u001B[0m     \u001B[38;5;28;01mfrom\u001B[39;00m \u001B[38;5;21;01mmatplotlib\u001B[39;00m\u001B[38;5;21;01m.\u001B[39;00m\u001B[38;5;21;01mbackend_bases\u001B[39;00m \u001B[38;5;28;01mimport\u001B[39;00m FigureCanvasBase\n\u001B[1;32m    150\u001B[0m     FigureCanvasBase(fig)\n\u001B[0;32m--> 152\u001B[0m \u001B[43mfig\u001B[49m\u001B[38;5;241;43m.\u001B[39;49m\u001B[43mcanvas\u001B[49m\u001B[38;5;241;43m.\u001B[39;49m\u001B[43mprint_figure\u001B[49m\u001B[43m(\u001B[49m\u001B[43mbytes_io\u001B[49m\u001B[43m,\u001B[49m\u001B[43m \u001B[49m\u001B[38;5;241;43m*\u001B[39;49m\u001B[38;5;241;43m*\u001B[39;49m\u001B[43mkw\u001B[49m\u001B[43m)\u001B[49m\n\u001B[1;32m    153\u001B[0m data \u001B[38;5;241m=\u001B[39m bytes_io\u001B[38;5;241m.\u001B[39mgetvalue()\n\u001B[1;32m    154\u001B[0m \u001B[38;5;28;01mif\u001B[39;00m fmt \u001B[38;5;241m==\u001B[39m \u001B[38;5;124m'\u001B[39m\u001B[38;5;124msvg\u001B[39m\u001B[38;5;124m'\u001B[39m:\n",
      "File \u001B[0;32m~/micromamba/envs/cs231n/lib/python3.11/site-packages/matplotlib/backend_bases.py:2336\u001B[0m, in \u001B[0;36mFigureCanvasBase.print_figure\u001B[0;34m(self, filename, dpi, facecolor, edgecolor, orientation, format, bbox_inches, pad_inches, bbox_extra_artists, backend, **kwargs)\u001B[0m\n\u001B[1;32m   2329\u001B[0m     bbox_inches \u001B[38;5;241m=\u001B[39m rcParams[\u001B[38;5;124m'\u001B[39m\u001B[38;5;124msavefig.bbox\u001B[39m\u001B[38;5;124m'\u001B[39m]\n\u001B[1;32m   2331\u001B[0m \u001B[38;5;28;01mif\u001B[39;00m (\u001B[38;5;28mself\u001B[39m\u001B[38;5;241m.\u001B[39mfigure\u001B[38;5;241m.\u001B[39mget_layout_engine() \u001B[38;5;129;01mis\u001B[39;00m \u001B[38;5;129;01mnot\u001B[39;00m \u001B[38;5;28;01mNone\u001B[39;00m \u001B[38;5;129;01mor\u001B[39;00m\n\u001B[1;32m   2332\u001B[0m         bbox_inches \u001B[38;5;241m==\u001B[39m \u001B[38;5;124m\"\u001B[39m\u001B[38;5;124mtight\u001B[39m\u001B[38;5;124m\"\u001B[39m):\n\u001B[1;32m   2333\u001B[0m     \u001B[38;5;66;03m# we need to trigger a draw before printing to make sure\u001B[39;00m\n\u001B[1;32m   2334\u001B[0m     \u001B[38;5;66;03m# CL works.  \"tight\" also needs a draw to get the right\u001B[39;00m\n\u001B[1;32m   2335\u001B[0m     \u001B[38;5;66;03m# locations:\u001B[39;00m\n\u001B[0;32m-> 2336\u001B[0m     renderer \u001B[38;5;241m=\u001B[39m \u001B[43m_get_renderer\u001B[49m\u001B[43m(\u001B[49m\n\u001B[1;32m   2337\u001B[0m \u001B[43m        \u001B[49m\u001B[38;5;28;43mself\u001B[39;49m\u001B[38;5;241;43m.\u001B[39;49m\u001B[43mfigure\u001B[49m\u001B[43m,\u001B[49m\n\u001B[1;32m   2338\u001B[0m \u001B[43m        \u001B[49m\u001B[43mfunctools\u001B[49m\u001B[38;5;241;43m.\u001B[39;49m\u001B[43mpartial\u001B[49m\u001B[43m(\u001B[49m\n\u001B[1;32m   2339\u001B[0m \u001B[43m            \u001B[49m\u001B[43mprint_method\u001B[49m\u001B[43m,\u001B[49m\u001B[43m \u001B[49m\u001B[43morientation\u001B[49m\u001B[38;5;241;43m=\u001B[39;49m\u001B[43morientation\u001B[49m\u001B[43m)\u001B[49m\n\u001B[1;32m   2340\u001B[0m \u001B[43m    \u001B[49m\u001B[43m)\u001B[49m\n\u001B[1;32m   2341\u001B[0m     \u001B[38;5;28;01mwith\u001B[39;00m \u001B[38;5;28mgetattr\u001B[39m(renderer, \u001B[38;5;124m\"\u001B[39m\u001B[38;5;124m_draw_disabled\u001B[39m\u001B[38;5;124m\"\u001B[39m, nullcontext)():\n\u001B[1;32m   2342\u001B[0m         \u001B[38;5;28mself\u001B[39m\u001B[38;5;241m.\u001B[39mfigure\u001B[38;5;241m.\u001B[39mdraw(renderer)\n",
      "File \u001B[0;32m~/micromamba/envs/cs231n/lib/python3.11/site-packages/matplotlib/backend_bases.py:1598\u001B[0m, in \u001B[0;36m_get_renderer\u001B[0;34m(figure, print_method)\u001B[0m\n\u001B[1;32m   1595\u001B[0m     print_method \u001B[38;5;241m=\u001B[39m stack\u001B[38;5;241m.\u001B[39menter_context(\n\u001B[1;32m   1596\u001B[0m         figure\u001B[38;5;241m.\u001B[39mcanvas\u001B[38;5;241m.\u001B[39m_switch_canvas_and_return_print_method(fmt))\n\u001B[1;32m   1597\u001B[0m \u001B[38;5;28;01mtry\u001B[39;00m:\n\u001B[0;32m-> 1598\u001B[0m     \u001B[43mprint_method\u001B[49m\u001B[43m(\u001B[49m\u001B[43mio\u001B[49m\u001B[38;5;241;43m.\u001B[39;49m\u001B[43mBytesIO\u001B[49m\u001B[43m(\u001B[49m\u001B[43m)\u001B[49m\u001B[43m)\u001B[49m\n\u001B[1;32m   1599\u001B[0m \u001B[38;5;28;01mexcept\u001B[39;00m Done \u001B[38;5;28;01mas\u001B[39;00m exc:\n\u001B[1;32m   1600\u001B[0m     renderer, \u001B[38;5;241m=\u001B[39m exc\u001B[38;5;241m.\u001B[39margs\n",
      "File \u001B[0;32m~/micromamba/envs/cs231n/lib/python3.11/site-packages/matplotlib/backend_bases.py:2232\u001B[0m, in \u001B[0;36mFigureCanvasBase._switch_canvas_and_return_print_method.<locals>.<lambda>\u001B[0;34m(*args, **kwargs)\u001B[0m\n\u001B[1;32m   2228\u001B[0m     optional_kws \u001B[38;5;241m=\u001B[39m {  \u001B[38;5;66;03m# Passed by print_figure for other renderers.\u001B[39;00m\n\u001B[1;32m   2229\u001B[0m         \u001B[38;5;124m\"\u001B[39m\u001B[38;5;124mdpi\u001B[39m\u001B[38;5;124m\"\u001B[39m, \u001B[38;5;124m\"\u001B[39m\u001B[38;5;124mfacecolor\u001B[39m\u001B[38;5;124m\"\u001B[39m, \u001B[38;5;124m\"\u001B[39m\u001B[38;5;124medgecolor\u001B[39m\u001B[38;5;124m\"\u001B[39m, \u001B[38;5;124m\"\u001B[39m\u001B[38;5;124morientation\u001B[39m\u001B[38;5;124m\"\u001B[39m,\n\u001B[1;32m   2230\u001B[0m         \u001B[38;5;124m\"\u001B[39m\u001B[38;5;124mbbox_inches_restore\u001B[39m\u001B[38;5;124m\"\u001B[39m}\n\u001B[1;32m   2231\u001B[0m     skip \u001B[38;5;241m=\u001B[39m optional_kws \u001B[38;5;241m-\u001B[39m {\u001B[38;5;241m*\u001B[39minspect\u001B[38;5;241m.\u001B[39msignature(meth)\u001B[38;5;241m.\u001B[39mparameters}\n\u001B[0;32m-> 2232\u001B[0m     print_method \u001B[38;5;241m=\u001B[39m functools\u001B[38;5;241m.\u001B[39mwraps(meth)(\u001B[38;5;28;01mlambda\u001B[39;00m \u001B[38;5;241m*\u001B[39margs, \u001B[38;5;241m*\u001B[39m\u001B[38;5;241m*\u001B[39mkwargs: \u001B[43mmeth\u001B[49m\u001B[43m(\u001B[49m\n\u001B[1;32m   2233\u001B[0m \u001B[43m        \u001B[49m\u001B[38;5;241;43m*\u001B[39;49m\u001B[43margs\u001B[49m\u001B[43m,\u001B[49m\u001B[43m \u001B[49m\u001B[38;5;241;43m*\u001B[39;49m\u001B[38;5;241;43m*\u001B[39;49m\u001B[43m{\u001B[49m\u001B[43mk\u001B[49m\u001B[43m:\u001B[49m\u001B[43m \u001B[49m\u001B[43mv\u001B[49m\u001B[43m \u001B[49m\u001B[38;5;28;43;01mfor\u001B[39;49;00m\u001B[43m \u001B[49m\u001B[43mk\u001B[49m\u001B[43m,\u001B[49m\u001B[43m \u001B[49m\u001B[43mv\u001B[49m\u001B[43m \u001B[49m\u001B[38;5;129;43;01min\u001B[39;49;00m\u001B[43m \u001B[49m\u001B[43mkwargs\u001B[49m\u001B[38;5;241;43m.\u001B[39;49m\u001B[43mitems\u001B[49m\u001B[43m(\u001B[49m\u001B[43m)\u001B[49m\u001B[43m \u001B[49m\u001B[38;5;28;43;01mif\u001B[39;49;00m\u001B[43m \u001B[49m\u001B[43mk\u001B[49m\u001B[43m \u001B[49m\u001B[38;5;129;43;01mnot\u001B[39;49;00m\u001B[43m \u001B[49m\u001B[38;5;129;43;01min\u001B[39;49;00m\u001B[43m \u001B[49m\u001B[43mskip\u001B[49m\u001B[43m}\u001B[49m\u001B[43m)\u001B[49m)\n\u001B[1;32m   2234\u001B[0m \u001B[38;5;28;01melse\u001B[39;00m:  \u001B[38;5;66;03m# Let third-parties do as they see fit.\u001B[39;00m\n\u001B[1;32m   2235\u001B[0m     print_method \u001B[38;5;241m=\u001B[39m meth\n",
      "File \u001B[0;32m~/micromamba/envs/cs231n/lib/python3.11/site-packages/matplotlib/backends/backend_agg.py:509\u001B[0m, in \u001B[0;36mFigureCanvasAgg.print_png\u001B[0;34m(self, filename_or_obj, metadata, pil_kwargs)\u001B[0m\n\u001B[1;32m    462\u001B[0m \u001B[38;5;28;01mdef\u001B[39;00m \u001B[38;5;21mprint_png\u001B[39m(\u001B[38;5;28mself\u001B[39m, filename_or_obj, \u001B[38;5;241m*\u001B[39m, metadata\u001B[38;5;241m=\u001B[39m\u001B[38;5;28;01mNone\u001B[39;00m, pil_kwargs\u001B[38;5;241m=\u001B[39m\u001B[38;5;28;01mNone\u001B[39;00m):\n\u001B[1;32m    463\u001B[0m \u001B[38;5;250m    \u001B[39m\u001B[38;5;124;03m\"\"\"\u001B[39;00m\n\u001B[1;32m    464\u001B[0m \u001B[38;5;124;03m    Write the figure to a PNG file.\u001B[39;00m\n\u001B[1;32m    465\u001B[0m \n\u001B[0;32m   (...)\u001B[0m\n\u001B[1;32m    507\u001B[0m \u001B[38;5;124;03m        *metadata*, including the default 'Software' key.\u001B[39;00m\n\u001B[1;32m    508\u001B[0m \u001B[38;5;124;03m    \"\"\"\u001B[39;00m\n\u001B[0;32m--> 509\u001B[0m     \u001B[38;5;28;43mself\u001B[39;49m\u001B[38;5;241;43m.\u001B[39;49m\u001B[43m_print_pil\u001B[49m\u001B[43m(\u001B[49m\u001B[43mfilename_or_obj\u001B[49m\u001B[43m,\u001B[49m\u001B[43m \u001B[49m\u001B[38;5;124;43m\"\u001B[39;49m\u001B[38;5;124;43mpng\u001B[39;49m\u001B[38;5;124;43m\"\u001B[39;49m\u001B[43m,\u001B[49m\u001B[43m \u001B[49m\u001B[43mpil_kwargs\u001B[49m\u001B[43m,\u001B[49m\u001B[43m \u001B[49m\u001B[43mmetadata\u001B[49m\u001B[43m)\u001B[49m\n",
      "File \u001B[0;32m~/micromamba/envs/cs231n/lib/python3.11/site-packages/matplotlib/backends/backend_agg.py:457\u001B[0m, in \u001B[0;36mFigureCanvasAgg._print_pil\u001B[0;34m(self, filename_or_obj, fmt, pil_kwargs, metadata)\u001B[0m\n\u001B[1;32m    452\u001B[0m \u001B[38;5;28;01mdef\u001B[39;00m \u001B[38;5;21m_print_pil\u001B[39m(\u001B[38;5;28mself\u001B[39m, filename_or_obj, fmt, pil_kwargs, metadata\u001B[38;5;241m=\u001B[39m\u001B[38;5;28;01mNone\u001B[39;00m):\n\u001B[1;32m    453\u001B[0m \u001B[38;5;250m    \u001B[39m\u001B[38;5;124;03m\"\"\"\u001B[39;00m\n\u001B[1;32m    454\u001B[0m \u001B[38;5;124;03m    Draw the canvas, then save it using `.image.imsave` (to which\u001B[39;00m\n\u001B[1;32m    455\u001B[0m \u001B[38;5;124;03m    *pil_kwargs* and *metadata* are forwarded).\u001B[39;00m\n\u001B[1;32m    456\u001B[0m \u001B[38;5;124;03m    \"\"\"\u001B[39;00m\n\u001B[0;32m--> 457\u001B[0m     \u001B[43mFigureCanvasAgg\u001B[49m\u001B[38;5;241;43m.\u001B[39;49m\u001B[43mdraw\u001B[49m\u001B[43m(\u001B[49m\u001B[38;5;28;43mself\u001B[39;49m\u001B[43m)\u001B[49m\n\u001B[1;32m    458\u001B[0m     mpl\u001B[38;5;241m.\u001B[39mimage\u001B[38;5;241m.\u001B[39mimsave(\n\u001B[1;32m    459\u001B[0m         filename_or_obj, \u001B[38;5;28mself\u001B[39m\u001B[38;5;241m.\u001B[39mbuffer_rgba(), \u001B[38;5;28mformat\u001B[39m\u001B[38;5;241m=\u001B[39mfmt, origin\u001B[38;5;241m=\u001B[39m\u001B[38;5;124m\"\u001B[39m\u001B[38;5;124mupper\u001B[39m\u001B[38;5;124m\"\u001B[39m,\n\u001B[1;32m    460\u001B[0m         dpi\u001B[38;5;241m=\u001B[39m\u001B[38;5;28mself\u001B[39m\u001B[38;5;241m.\u001B[39mfigure\u001B[38;5;241m.\u001B[39mdpi, metadata\u001B[38;5;241m=\u001B[39mmetadata, pil_kwargs\u001B[38;5;241m=\u001B[39mpil_kwargs)\n",
      "File \u001B[0;32m~/micromamba/envs/cs231n/lib/python3.11/site-packages/matplotlib/backends/backend_agg.py:394\u001B[0m, in \u001B[0;36mFigureCanvasAgg.draw\u001B[0;34m(self)\u001B[0m\n\u001B[1;32m    392\u001B[0m \u001B[38;5;28;01mdef\u001B[39;00m \u001B[38;5;21mdraw\u001B[39m(\u001B[38;5;28mself\u001B[39m):\n\u001B[1;32m    393\u001B[0m     \u001B[38;5;66;03m# docstring inherited\u001B[39;00m\n\u001B[0;32m--> 394\u001B[0m     \u001B[38;5;28mself\u001B[39m\u001B[38;5;241m.\u001B[39mrenderer \u001B[38;5;241m=\u001B[39m \u001B[38;5;28;43mself\u001B[39;49m\u001B[38;5;241;43m.\u001B[39;49m\u001B[43mget_renderer\u001B[49m\u001B[43m(\u001B[49m\u001B[43m)\u001B[49m\n\u001B[1;32m    395\u001B[0m     \u001B[38;5;28mself\u001B[39m\u001B[38;5;241m.\u001B[39mrenderer\u001B[38;5;241m.\u001B[39mclear()\n\u001B[1;32m    396\u001B[0m     \u001B[38;5;66;03m# Acquire a lock on the shared font cache.\u001B[39;00m\n",
      "File \u001B[0;32m~/micromamba/envs/cs231n/lib/python3.11/site-packages/matplotlib/_api/deprecation.py:384\u001B[0m, in \u001B[0;36mdelete_parameter.<locals>.wrapper\u001B[0;34m(*inner_args, **inner_kwargs)\u001B[0m\n\u001B[1;32m    379\u001B[0m \u001B[38;5;129m@functools\u001B[39m\u001B[38;5;241m.\u001B[39mwraps(func)\n\u001B[1;32m    380\u001B[0m \u001B[38;5;28;01mdef\u001B[39;00m \u001B[38;5;21mwrapper\u001B[39m(\u001B[38;5;241m*\u001B[39minner_args, \u001B[38;5;241m*\u001B[39m\u001B[38;5;241m*\u001B[39minner_kwargs):\n\u001B[1;32m    381\u001B[0m     \u001B[38;5;28;01mif\u001B[39;00m \u001B[38;5;28mlen\u001B[39m(inner_args) \u001B[38;5;241m<\u001B[39m\u001B[38;5;241m=\u001B[39m name_idx \u001B[38;5;129;01mand\u001B[39;00m name \u001B[38;5;129;01mnot\u001B[39;00m \u001B[38;5;129;01min\u001B[39;00m inner_kwargs:\n\u001B[1;32m    382\u001B[0m         \u001B[38;5;66;03m# Early return in the simple, non-deprecated case (much faster than\u001B[39;00m\n\u001B[1;32m    383\u001B[0m         \u001B[38;5;66;03m# calling bind()).\u001B[39;00m\n\u001B[0;32m--> 384\u001B[0m         \u001B[38;5;28;01mreturn\u001B[39;00m \u001B[43mfunc\u001B[49m\u001B[43m(\u001B[49m\u001B[38;5;241;43m*\u001B[39;49m\u001B[43minner_args\u001B[49m\u001B[43m,\u001B[49m\u001B[43m \u001B[49m\u001B[38;5;241;43m*\u001B[39;49m\u001B[38;5;241;43m*\u001B[39;49m\u001B[43minner_kwargs\u001B[49m\u001B[43m)\u001B[49m\n\u001B[1;32m    385\u001B[0m     arguments \u001B[38;5;241m=\u001B[39m signature\u001B[38;5;241m.\u001B[39mbind(\u001B[38;5;241m*\u001B[39minner_args, \u001B[38;5;241m*\u001B[39m\u001B[38;5;241m*\u001B[39minner_kwargs)\u001B[38;5;241m.\u001B[39marguments\n\u001B[1;32m    386\u001B[0m     \u001B[38;5;28;01mif\u001B[39;00m is_varargs \u001B[38;5;129;01mand\u001B[39;00m arguments\u001B[38;5;241m.\u001B[39mget(name):\n",
      "File \u001B[0;32m~/micromamba/envs/cs231n/lib/python3.11/site-packages/matplotlib/backends/backend_agg.py:411\u001B[0m, in \u001B[0;36mFigureCanvasAgg.get_renderer\u001B[0;34m(self, cleared)\u001B[0m\n\u001B[1;32m    409\u001B[0m reuse_renderer \u001B[38;5;241m=\u001B[39m (\u001B[38;5;28mself\u001B[39m\u001B[38;5;241m.\u001B[39m_lastKey \u001B[38;5;241m==\u001B[39m key)\n\u001B[1;32m    410\u001B[0m \u001B[38;5;28;01mif\u001B[39;00m \u001B[38;5;129;01mnot\u001B[39;00m reuse_renderer:\n\u001B[0;32m--> 411\u001B[0m     \u001B[38;5;28mself\u001B[39m\u001B[38;5;241m.\u001B[39mrenderer \u001B[38;5;241m=\u001B[39m \u001B[43mRendererAgg\u001B[49m\u001B[43m(\u001B[49m\u001B[43mw\u001B[49m\u001B[43m,\u001B[49m\u001B[43m \u001B[49m\u001B[43mh\u001B[49m\u001B[43m,\u001B[49m\u001B[43m \u001B[49m\u001B[38;5;28;43mself\u001B[39;49m\u001B[38;5;241;43m.\u001B[39;49m\u001B[43mfigure\u001B[49m\u001B[38;5;241;43m.\u001B[39;49m\u001B[43mdpi\u001B[49m\u001B[43m)\u001B[49m\n\u001B[1;32m    412\u001B[0m     \u001B[38;5;28mself\u001B[39m\u001B[38;5;241m.\u001B[39m_lastKey \u001B[38;5;241m=\u001B[39m key\n\u001B[1;32m    413\u001B[0m \u001B[38;5;28;01melif\u001B[39;00m cleared:\n",
      "File \u001B[0;32m~/micromamba/envs/cs231n/lib/python3.11/site-packages/matplotlib/backends/backend_agg.py:84\u001B[0m, in \u001B[0;36mRendererAgg.__init__\u001B[0;34m(self, width, height, dpi)\u001B[0m\n\u001B[1;32m     82\u001B[0m \u001B[38;5;28mself\u001B[39m\u001B[38;5;241m.\u001B[39mwidth \u001B[38;5;241m=\u001B[39m width\n\u001B[1;32m     83\u001B[0m \u001B[38;5;28mself\u001B[39m\u001B[38;5;241m.\u001B[39mheight \u001B[38;5;241m=\u001B[39m height\n\u001B[0;32m---> 84\u001B[0m \u001B[38;5;28mself\u001B[39m\u001B[38;5;241m.\u001B[39m_renderer \u001B[38;5;241m=\u001B[39m \u001B[43m_RendererAgg\u001B[49m\u001B[43m(\u001B[49m\u001B[38;5;28;43mint\u001B[39;49m\u001B[43m(\u001B[49m\u001B[43mwidth\u001B[49m\u001B[43m)\u001B[49m\u001B[43m,\u001B[49m\u001B[43m \u001B[49m\u001B[38;5;28;43mint\u001B[39;49m\u001B[43m(\u001B[49m\u001B[43mheight\u001B[49m\u001B[43m)\u001B[49m\u001B[43m,\u001B[49m\u001B[43m \u001B[49m\u001B[43mdpi\u001B[49m\u001B[43m)\u001B[49m\n\u001B[1;32m     85\u001B[0m \u001B[38;5;28mself\u001B[39m\u001B[38;5;241m.\u001B[39m_filter_renderers \u001B[38;5;241m=\u001B[39m []\n\u001B[1;32m     87\u001B[0m \u001B[38;5;28mself\u001B[39m\u001B[38;5;241m.\u001B[39m_update_methods()\n",
      "\u001B[0;31mValueError\u001B[0m: Image size of 82800x82800 pixels is too large. It must be less than 2^16 in each direction."
     ]
    },
    {
     "data": {
      "text/plain": "<Figure size 82800x82800 with 2302 Axes>"
     },
     "metadata": {},
     "output_type": "display_data"
    }
   ],
   "source": [
    "sliding_sample_images = chunks.reshape((batch, -1, filter_height, filter_width, channel))\n",
    "assert sliding_sample_images.shape == (\n",
    "    batch,\n",
    "    chunk_height * chunk_width,\n",
    "    filter_height,\n",
    "    filter_width,\n",
    "    channel,\n",
    ")\n",
    "for sliding_sample_image in sliding_sample_images:\n",
    "    batch_plot(\n",
    "        sliding_sample_image,\n",
    "        with_border=False,\n",
    "        cmap=plt.cm.gray,\n",
    "        tight_layout=None,\n",
    "        wspace=0.01,\n",
    "        hspace=0.01,\n",
    "        imgsize=2,\n",
    "    )"
   ]
  },
  {
   "cell_type": "markdown",
   "id": "e27d70b6-83c3-4668-ae9e-8f2f8559116c",
   "metadata": {},
   "source": [
    "# Apply filters to the sliding window chunks"
   ]
  },
  {
   "cell_type": "code",
   "execution_count": null,
   "id": "bca654e7-4d2b-4f6f-b92c-130407695d46",
   "metadata": {},
   "outputs": [],
   "source": [
    "filter_height = filter_width = 7\n",
    "sample_filters = load_sample_filters(size=filter_height, sigma=1, channel=channel)\n",
    "\n",
    "batch_plot(\n",
    "    list(sample_filters.values()),\n",
    "    list(sample_filters.keys()),\n",
    "    with_border=True,\n",
    "    tight_layout=None,\n",
    "    wspace=0.1,\n",
    "    hspace=0.1,\n",
    "    imgsize=4,\n",
    ")"
   ]
  },
  {
   "cell_type": "code",
   "execution_count": null,
   "id": "01f0322b-b0de-47b2-9716-d0ed6ceb8dd9",
   "metadata": {
    "tags": []
   },
   "outputs": [],
   "source": [
    "# chunked with stride of 1\n",
    "batch, height, width, channel = sample_images.shape\n",
    "filters = np.asarray(list(sample_filters.values()))\n",
    "chunks = np.lib.stride_tricks.sliding_window_view(\n",
    "    sample_images, window_shape=(1, filter_height, filter_width, channel)\n",
    ").squeeze(axis=(3, 4))\n",
    "chunk_height, chunk_width = height - filter_height + 1, width - filter_width + 1\n",
    "assert chunks.shape == (\n",
    "    batch,\n",
    "    chunk_height,\n",
    "    chunk_width,\n",
    "    filter_height,\n",
    "    filter_width,\n",
    "    channel,\n",
    ")\n",
    "\n",
    "# chunks:                                                      (batch, chunk_height, chunk_width, filter_height, filter_width, channel)\n",
    "# filters:                                                     (num_filters, filter_height, filter_width, channel)\n",
    "\n",
    "# 1. step by step\n",
    "# np.expand_dims(chunks, 3):                                   (batch, chunk_height, chunk_width, 1, filter_height, filter_width, channel)\n",
    "# np.expand_dims(chunks, 3) * filters:                         (batch, chunk_height, chunk_width, num_filters, filter_height, filter_width, channel)\n",
    "# np.expand_dims(chunks, 3) * filters).sum(axis=(-3,-2,-1)):   (batch, chunk_height, chunk_width, num_filters, channel)\n",
    "# filtered_sample_images = (np.expand_dims(chunks, 3) * filters).sum(axis=(-3,-2,-1)).transpose((0,3,1,2))\n",
    "# 2. tensordot\n",
    "# filtered_sample_image = np.tensordot(chunks, filters, axes=((3,4,5), (1,2,3))).transpose((0,3,1,2))\n",
    "# 3. einsum\n",
    "# filtered_sample_images = np.einsum('mijklc,nklc->mnij',chunks,filters)\n",
    "\n",
    "# 4. img2col\n",
    "# filters.reshape((-1, filter_height*filter_width*channel)).T                                 (filter_height*filter_width*channel, num_filters)\n",
    "# chunks.reshape((batch*chunk_height*chunk_width, filter_height*filter_width*channel))        (batch*chunk_height*chunk_width*channel, filter_height*filter_width*channel)\n",
    "filtered_sample_images = (\n",
    "    chunks.reshape((batch * chunk_height * chunk_width, filter_height * filter_width * channel))\n",
    "    @ filters.reshape((-1, filter_height * filter_width * channel)).T\n",
    ")\n",
    "filtered_sample_images = filtered_sample_images.reshape((batch, chunk_height, chunk_width, -1)).transpose((0, 3, 1, 2))\n",
    "\n",
    "assert filtered_sample_images.shape == (batch, len(filters), chunk_height, chunk_width)\n",
    "\n",
    "for filtered_sample_image in filtered_sample_images:\n",
    "    batch_plot(\n",
    "        filtered_sample_image,\n",
    "        list(sample_filters.keys()),\n",
    "        with_border=False,\n",
    "        cmap=plt.cm.gray,\n",
    "        tight_layout=None,\n",
    "        wspace=0.1,\n",
    "        hspace=0.1,\n",
    "        imgsize=6,\n",
    "    )"
   ]
  },
  {
   "cell_type": "code",
   "execution_count": null,
   "id": "0b79d582-f65f-4af5-81ae-d83d71005cc2",
   "metadata": {
    "tags": []
   },
   "outputs": [],
   "source": [
    "from scipy import signal\n",
    "\n",
    "\n",
    "def conv2d(images, kernels):\n",
    "    _, kernel_height, kernel_width, kernel_channel = kernels.shape\n",
    "    padding_height, padding_width = (kernel_height - 1) // 2, (kernel_width - 1) // 2\n",
    "    # same padding\n",
    "    images = np.pad(\n",
    "        images, pad_width=((0, 0), (padding_height, padding_width), (padding_height, padding_width), (0, 0))\n",
    "    )\n",
    "    chunks = np.lib.stride_tricks.sliding_window_view(\n",
    "        images, window_shape=(1, kernel_height, kernel_width, kernel_channel)\n",
    "    ).squeeze(axis=(3, 4))\n",
    "    return np.einsum(\"mijklc,nklc->mnij\", chunks, kernels)\n",
    "\n",
    "\n",
    "def fft_conv2d(images, kernels):\n",
    "    batch_size, image_height, image_width, channel = images.shape\n",
    "    res = np.zeros((batch_size, len(filters), image_height, image_width))\n",
    "\n",
    "    # (num_kernels, 1, kernel_height, kernel_width, channel)\n",
    "    kernels = np.expand_dims(np.rot90(kernels, k=2, axes=(1, 2)), axis=1)\n",
    "\n",
    "    for i, k in enumerate(kernels):\n",
    "        for c in range(channel):\n",
    "            res[:, i, :, :] += signal.fftconvolve(images[..., c], k[..., c], mode=\"same\")\n",
    "    return res"
   ]
  },
  {
   "cell_type": "code",
   "execution_count": null,
   "id": "b166497e-19a0-477a-8a39-2d1925df81a7",
   "metadata": {
    "tags": []
   },
   "outputs": [],
   "source": [
    "random_filters = np.random.uniform(size=filters.shape)\n",
    "\n",
    "assert np.allclose(conv2d(sample_images, filters), fft_conv2d(sample_images, filters))\n",
    "assert np.allclose(conv2d(sample_images, random_filters), fft_conv2d(sample_images, random_filters))"
   ]
  },
  {
   "cell_type": "code",
   "execution_count": null,
   "id": "f312722f-473c-4720-9222-30de2f81e76d",
   "metadata": {
    "tags": []
   },
   "outputs": [],
   "source": [
    "%timeit conv2d(sample_images, filters)\n",
    "%timeit fft_conv2d(sample_images, np.rot90(filters, k=2, axes=(1,2)))"
   ]
  },
  {
   "cell_type": "markdown",
   "id": "a8284068-3079-4221-9e85-12b69768680f",
   "metadata": {},
   "source": [
    "- [An Intuitive Explanation of Convolutional Neural Networks](https://ujjwalkarn.me/2016/08/11/intuitive-explanation-convnets/)"
   ]
  }
 ],
 "metadata": {
  "kernelspec": {
   "display_name": "Python 3 (ipykernel)",
   "language": "python",
   "name": "python3"
  },
  "language_info": {
   "codemirror_mode": {
    "name": "ipython",
    "version": 3
   },
   "file_extension": ".py",
   "mimetype": "text/x-python",
   "name": "python",
   "nbconvert_exporter": "python",
   "pygments_lexer": "ipython3",
   "version": "3.10.9"
  }
 },
 "nbformat": 4,
 "nbformat_minor": 5
}
