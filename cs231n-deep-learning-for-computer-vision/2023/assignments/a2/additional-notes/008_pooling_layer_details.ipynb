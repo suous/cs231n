{
 "cells": [
  {
   "cell_type": "code",
   "execution_count": null,
   "id": "34e16fce-f1df-4df5-a22b-09ffc7bb26d3",
   "metadata": {},
   "outputs": [],
   "source": [
    "import torch\n",
    "import numpy as np\n",
    "import matplotlib.pyplot as plt\n",
    "\n",
    "from conv import window_images\n",
    "from utils import batch_plot"
   ]
  },
  {
   "cell_type": "code",
   "execution_count": null,
   "id": "d27ea56f-a72e-489f-bb08-be0f4aab14e6",
   "metadata": {
    "tags": []
   },
   "outputs": [],
   "source": [
    "# fmt: off\n",
    "zero = np.array([\n",
    "    [0 ,0 ,5, 13,9, 1 ,0 ,0 ], \n",
    "    [0 ,0 ,13,15,10,15,5 ,0 ], \n",
    "    [0 ,3 ,15,2 ,0, 11,8 ,0 ],\n",
    "    [0 ,4 ,12,0 ,0, 8 ,8 ,0 ],\n",
    "    [0 ,5 ,8, 0 ,0, 9 ,8 ,0 ],\n",
    "    [0 ,4 ,11,0 ,1, 12,7 ,0 ],\n",
    "    [0 ,2 ,14,5 ,10,12,0 ,0 ],\n",
    "    [0 ,0 ,6, 13,10,0 ,0 ,0 ]\n",
    "])\n",
    "# fmt: on\n",
    "\n",
    "batch_plot(np.expand_dims(zero, 0), cmap=plt.cm.gray_r)"
   ]
  },
  {
   "cell_type": "markdown",
   "id": "5113c775-77d6-472e-9b31-028e23775685",
   "metadata": {
    "tags": []
   },
   "source": [
    "# Max pooling with stride=2\n",
    "\n",
    "## 1. using max values to find the maximum locations\n",
    "\n",
    "<img src=\"./images/max_pooling_with_duplicates.png\">\n",
    "\n",
    "### 1.1 generate sliding window views "
   ]
  },
  {
   "cell_type": "code",
   "execution_count": null,
   "id": "ffd0fda3-0eff-4348-bc2d-e0c9549f8107",
   "metadata": {
    "tags": []
   },
   "outputs": [],
   "source": [
    "# fmt: off\n",
    "def generate_windowed_2d(x, kernel=(2, 2), stride=(2, 2), channels_first=False):\n",
    "    return (\n",
    "        window_images(\n",
    "            images=np.expand_dims(x, (0,3)), # (height, width) -> (batch, height, width, channel)\n",
    "            kernel_size=kernel, \n",
    "            stride=stride, \n",
    "            channels_first=channels_first,\n",
    "        ).squeeze(axis=(0,-1)) # (batch, sliding_width, sliding_height, kernel_height, kernel_width, channel) -> (sliding_width, sliding_height, kernel_height, kernel_width)\n",
    "    )\n",
    "# fmt: on"
   ]
  },
  {
   "cell_type": "code",
   "execution_count": null,
   "id": "76695204-1df6-4579-a61f-307b26f963ef",
   "metadata": {
    "tags": []
   },
   "outputs": [],
   "source": [
    "height, width = zero.shape\n",
    "kernel_height, kernel_width = 2, 2\n",
    "stride_height, stride_width = 2, 2\n",
    "windowed_zero = generate_windowed_2d(x=zero, stride=(stride_height, stride_width))\n",
    "assert windowed_zero.ndim == 4"
   ]
  },
  {
   "cell_type": "markdown",
   "id": "adcabf30-ea75-4d93-9847-560c1d1425a2",
   "metadata": {},
   "source": [
    "### 1.2. find the max values along height and width axis"
   ]
  },
  {
   "cell_type": "code",
   "execution_count": null,
   "id": "a7a0ee59-d43c-435d-9bde-f016a0ff7adf",
   "metadata": {},
   "outputs": [],
   "source": [
    "max_windowed_zero = np.max(windowed_zero, axis=(2, 3))\n",
    "max_windowed_zero"
   ]
  },
  {
   "cell_type": "markdown",
   "id": "6d1a59cb-eb48-49b2-87be-e99022fdd92c",
   "metadata": {},
   "source": [
    "### 1.3. expand the max values for broadcasting"
   ]
  },
  {
   "cell_type": "code",
   "execution_count": null,
   "id": "621f482d-ceff-4188-8269-d11585f3c497",
   "metadata": {
    "tags": []
   },
   "outputs": [],
   "source": [
    "expanded_max_windowed_zero = np.expand_dims(max_windowed_zero, axis=(2, 3))\n",
    "assert expanded_max_windowed_zero.ndim == 4"
   ]
  },
  {
   "cell_type": "markdown",
   "id": "551f633a-c36f-49a5-a4ab-4423bb0516e2",
   "metadata": {},
   "source": [
    "### 1.4. compare the windowed array with the expanded max values to find the maximum locations"
   ]
  },
  {
   "cell_type": "code",
   "execution_count": null,
   "id": "78b09432-1d86-401d-a704-7d77ec661e74",
   "metadata": {},
   "outputs": [],
   "source": [
    "max_windowed_zero_index_with_duplicates = (windowed_zero == expanded_max_windowed_zero).astype(int)\n",
    "assert max_windowed_zero_index_with_duplicates.shape == windowed_zero.shape"
   ]
  },
  {
   "cell_type": "markdown",
   "id": "8d7cfe91-71fe-44c8-8b53-1beaeabe81ec",
   "metadata": {},
   "source": [
    "### 1.5 get the gradient"
   ]
  },
  {
   "cell_type": "code",
   "execution_count": null,
   "id": "3e14f66d-1c7c-4dac-8678-09c64978b73a",
   "metadata": {
    "tags": []
   },
   "outputs": [],
   "source": [
    "grad_duplicates = max_windowed_zero_index_with_duplicates.transpose((0, 2, 1, 3)).reshape(zero.shape)\n",
    "\n",
    "grad_duplicates"
   ]
  },
  {
   "cell_type": "markdown",
   "id": "a7ab787f-a56d-46d3-87e0-01feb49e5f62",
   "metadata": {
    "tags": []
   },
   "source": [
    "\n",
    "## 2. using `argmax` to find the maximum locations\n",
    "\n",
    "<img src=\"./images/max_pooling_without_duplicates.png\">\n",
    "\n",
    "### 2.1 generate sliding window views "
   ]
  },
  {
   "cell_type": "code",
   "execution_count": null,
   "id": "38c0b7fc-6a94-454f-9e7f-4980d2358e9a",
   "metadata": {
    "tags": []
   },
   "outputs": [],
   "source": [
    "height, width = zero.shape\n",
    "kernel_height, kernel_width = 2, 2\n",
    "stride_height, stride_width = 2, 2\n",
    "windowed_zero = generate_windowed_2d(x=zero, stride=(stride_height, stride_width))\n",
    "assert windowed_zero.ndim == 4"
   ]
  },
  {
   "cell_type": "markdown",
   "id": "0acfd5b4-9e61-4882-b127-5952b3cfd2da",
   "metadata": {},
   "source": [
    "### 2.2 reshape the windowed array"
   ]
  },
  {
   "cell_type": "code",
   "execution_count": null,
   "id": "e8d107eb-ce0f-4953-93b7-2d8eaf1a75de",
   "metadata": {
    "tags": []
   },
   "outputs": [],
   "source": [
    "height_blocks, width_blocks, kernel_height, kernel_width = windowed_zero.shape\n",
    "block_size, kernel_size = height_blocks * width_blocks, kernel_height * kernel_width\n",
    "reshaped_windowed_zero = windowed_zero.reshape((block_size, kernel_size))"
   ]
  },
  {
   "cell_type": "markdown",
   "id": "1327f422-d4d4-4061-9b7f-31283ef6c655",
   "metadata": {},
   "source": [
    "### 2.3 find maximum locations using `argmax`"
   ]
  },
  {
   "cell_type": "code",
   "execution_count": null,
   "id": "33891610-725d-4f7f-acc8-44be33dc329b",
   "metadata": {
    "tags": []
   },
   "outputs": [],
   "source": [
    "reshaped_windowed_zero_argmax = np.argmax(reshaped_windowed_zero, axis=1)\n",
    "max_windowed_zero = np.max(windowed_zero, axis=(2, 3))\n",
    "max_windowed_zero"
   ]
  },
  {
   "cell_type": "markdown",
   "id": "b1b90d37-62ae-47ea-9161-61c93a6e78e2",
   "metadata": {},
   "source": [
    "### 2.4 map maximum locations to the reshaped array "
   ]
  },
  {
   "cell_type": "code",
   "execution_count": null,
   "id": "3cf7e3ff-341a-485a-a7d0-1a0cf9076e4a",
   "metadata": {
    "tags": []
   },
   "outputs": [],
   "source": [
    "reshaped_maximum_locations = np.zeros_like(reshaped_windowed_zero)\n",
    "reshaped_maximum_locations[np.indices((block_size,)), reshaped_windowed_zero_argmax] = 1"
   ]
  },
  {
   "cell_type": "markdown",
   "id": "c00a79e9-9a96-4057-b6f0-9a6548587439",
   "metadata": {},
   "source": [
    "### 2.5 get the gradient"
   ]
  },
  {
   "cell_type": "code",
   "execution_count": null,
   "id": "6aacfd07-2365-482f-a876-a820d3036698",
   "metadata": {
    "tags": []
   },
   "outputs": [],
   "source": [
    "max_windowed_zero_index_without_duplicates = reshaped_maximum_locations.reshape(windowed_zero.shape)\n",
    "grad_normal = max_windowed_zero_index_without_duplicates.transpose((0, 2, 1, 3)).reshape(zero.shape)\n",
    "\n",
    "grad_normal"
   ]
  },
  {
   "cell_type": "markdown",
   "id": "51ca9829-3934-4484-9193-f730ddac6080",
   "metadata": {},
   "source": [
    "### 2.6 compare the result with pytorch"
   ]
  },
  {
   "cell_type": "code",
   "execution_count": null,
   "id": "fbedc82f-9645-450e-bfe1-0c290b230204",
   "metadata": {
    "tags": []
   },
   "outputs": [],
   "source": [
    "torch_zero = torch.tensor(zero, requires_grad=True, dtype=torch.float).unsqueeze(0)\n",
    "torch_zero.retain_grad()\n",
    "pool = torch.nn.functional.max_pool2d(\n",
    "    torch_zero,\n",
    "    kernel_size=(kernel_height, kernel_width),\n",
    "    stride=(stride_height, stride_width),\n",
    ")\n",
    "\n",
    "assert np.allclose(pool.detach().numpy(), max_windowed_zero)\n",
    "\n",
    "pool.sum().backward()\n",
    "assert np.allclose(torch_zero.grad.numpy(), grad_normal)"
   ]
  },
  {
   "cell_type": "markdown",
   "id": "f9d1ac7e-77d8-429d-a027-1fe026d2e440",
   "metadata": {
    "tags": []
   },
   "source": [
    "# Max pooling with stride=1"
   ]
  },
  {
   "cell_type": "markdown",
   "id": "60f23b77-3e5d-4dcc-b54e-b53e2c99f426",
   "metadata": {
    "tags": []
   },
   "source": [
    "\n",
    "## 1. using `argmax` to find the maximum locations\n",
    "\n",
    "<img src=\"./images/max_pooling_with_overlaps.png\">\n",
    "\n",
    "### 1.1 generate sliding window views "
   ]
  },
  {
   "cell_type": "code",
   "execution_count": null,
   "id": "1e6b6d92-966e-4473-9470-6a9086326f80",
   "metadata": {
    "tags": []
   },
   "outputs": [],
   "source": [
    "height, width = zero.shape\n",
    "kernel_height, kernel_width = 2, 2\n",
    "stride_height, stride_width = 1, 1\n",
    "windowed_zero = generate_windowed_2d(x=zero, stride=(stride_height, stride_width))\n",
    "assert windowed_zero.ndim == 4"
   ]
  },
  {
   "cell_type": "markdown",
   "id": "8eff244a-dd50-4183-951a-e63d7ecf4a02",
   "metadata": {},
   "source": [
    "### 1.2 reshape the windowed array"
   ]
  },
  {
   "cell_type": "code",
   "execution_count": null,
   "id": "8757e2b3-fb0c-496d-ad01-fdfe394e83e0",
   "metadata": {
    "tags": []
   },
   "outputs": [],
   "source": [
    "height_blocks, width_blocks, kernel_height, kernel_width = windowed_zero.shape\n",
    "block_size, kernel_size = height_blocks * width_blocks, kernel_height * kernel_width\n",
    "reshaped_windowed_zero = windowed_zero.reshape((block_size, kernel_size))"
   ]
  },
  {
   "cell_type": "markdown",
   "id": "54b7c716-5beb-4951-925f-e357c5da1cf1",
   "metadata": {},
   "source": [
    "### 1.3 find maximum locations using `argmax`"
   ]
  },
  {
   "cell_type": "code",
   "execution_count": null,
   "id": "494c165d-07f2-4795-8317-a28f4ef50aa7",
   "metadata": {
    "tags": []
   },
   "outputs": [],
   "source": [
    "reshaped_windowed_zero_argmax = np.argmax(reshaped_windowed_zero, axis=1)\n",
    "max_windowed_zero = np.max(windowed_zero, axis=(2, 3))\n",
    "max_windowed_zero"
   ]
  },
  {
   "cell_type": "markdown",
   "id": "90d7c081-d8d6-45d5-93ec-0c4098a30310",
   "metadata": {},
   "source": [
    "### 1.4 map maximum locations to the reshaped array "
   ]
  },
  {
   "cell_type": "code",
   "execution_count": null,
   "id": "3b888273-ba31-495d-91d6-9668e1a2a200",
   "metadata": {
    "tags": []
   },
   "outputs": [],
   "source": [
    "reshaped_maximum_locations = np.zeros_like(reshaped_windowed_zero)\n",
    "reshaped_maximum_locations[np.indices((block_size,)), reshaped_windowed_zero_argmax] = 1"
   ]
  },
  {
   "cell_type": "markdown",
   "id": "cf91f610-de4d-483f-a671-31184e9041a5",
   "metadata": {},
   "source": [
    "### 1.5 get the gradient"
   ]
  },
  {
   "cell_type": "markdown",
   "id": "22e137c8-86fd-48ec-adef-e73bbd38e6fb",
   "metadata": {
    "tags": []
   },
   "source": [
    "#### 1.5.1 example of handle overlap (need better ideas)\n",
    "\n",
    "<img src=\"./images/combine_overlaps.png\">\n"
   ]
  },
  {
   "cell_type": "code",
   "execution_count": null,
   "id": "bb7169a5-8126-4ec4-96aa-943011b1f5c9",
   "metadata": {
    "tags": []
   },
   "outputs": [],
   "source": [
    "x = np.array(\n",
    "    [\n",
    "        [0, 0, 0, 0, 2, 1, 2, 1],\n",
    "        [2, 1, 0, 2, 0, 0, 1, 0],\n",
    "        [0, 2, 1, 1, 1, 2, 2, 2],\n",
    "        [1, 2, 0, 1, 0, 0, 0, 2],\n",
    "        [0, 2, 1, 0, 1, 1, 2, 1],\n",
    "        [0, 2, 0, 1, 2, 1, 2, 1],\n",
    "        [1, 0, 0, 1, 2, 2, 1, 2],\n",
    "        [0, 2, 1, 0, 2, 2, 1, 2],\n",
    "    ]\n",
    ").reshape((4, 4, 2, 2))\n",
    "\n",
    "col_start, col_end = x[:, 0, :, 0], x[:, -1, :, -1]\n",
    "col_middle = x[:, :-1, :, 1] + x[:, 1:, :, 0]\n",
    "\n",
    "col_overlap = np.concatenate([col_start[:, None, :], col_middle, col_end[:, None, :]], axis=1).transpose((0, 2, 1))\n",
    "\n",
    "assert col_overlap.shape == (4, 2, 5)\n",
    "\n",
    "row_start, row_end = col_overlap[0, 0, :], col_overlap[-1, -1, :]\n",
    "row_middle = col_overlap[:-1, 1, :] + col_overlap[1:, 0, :]\n",
    "row_overlap = np.concatenate([row_start[None, :], row_middle, row_end[None, :]], axis=0)\n",
    "\n",
    "assert row_overlap.shape == (5, 5)\n",
    "\n",
    "\n",
    "def combine_overlap(x):\n",
    "    col_start, col_end = x[:, 0, :, 0], x[:, -1, :, -1]\n",
    "    col_middle = x[:, :-1, :, 1] + x[:, 1:, :, 0]\n",
    "    col_overlap = np.concatenate([col_start[:, None, :], col_middle, col_end[:, None, :]], axis=1).transpose((0, 2, 1))\n",
    "\n",
    "    row_start, row_end = col_overlap[0, 0, :], col_overlap[-1, -1, :]\n",
    "    row_middle = col_overlap[:-1, 1, :] + col_overlap[1:, 0, :]\n",
    "    row_overlap = np.concatenate([row_start[None, :], row_middle, row_end[None, :]], axis=0)\n",
    "    return row_overlap"
   ]
  },
  {
   "cell_type": "markdown",
   "id": "a8b559f1-5588-48b0-96a3-188c5e8a193f",
   "metadata": {},
   "source": [
    "#### 1.5.2 calculate the gradient"
   ]
  },
  {
   "cell_type": "code",
   "execution_count": null,
   "id": "fb9564cf-c486-45b3-a0f5-b27ace142699",
   "metadata": {
    "tags": []
   },
   "outputs": [],
   "source": [
    "max_windowed_zero_index_without_duplicates = reshaped_maximum_locations.reshape(windowed_zero.shape)\n",
    "\n",
    "grad_normal = combine_overlap(max_windowed_zero_index_without_duplicates)\n",
    "assert grad_normal.shape == zero.shape"
   ]
  },
  {
   "cell_type": "code",
   "execution_count": null,
   "id": "fdb459d5-d245-4406-91c6-083bfb53adb8",
   "metadata": {
    "tags": []
   },
   "outputs": [],
   "source": [
    "torch_zero = torch.tensor(zero, requires_grad=True, dtype=torch.float).unsqueeze(0)\n",
    "torch_zero.retain_grad()\n",
    "pool = torch.nn.functional.max_pool2d(\n",
    "    torch_zero,\n",
    "    kernel_size=(kernel_height, kernel_width),\n",
    "    stride=(stride_height, stride_width),\n",
    ")\n",
    "\n",
    "assert np.allclose(pool.detach().numpy(), max_windowed_zero)\n",
    "\n",
    "pool.sum().backward()\n",
    "assert np.allclose(torch_zero.grad.numpy(), grad_normal)"
   ]
  },
  {
   "cell_type": "markdown",
   "id": "f75cb3b2-c38d-49fa-aa79-f11f99440611",
   "metadata": {
    "tags": []
   },
   "source": [
    "# Mean pooling with stride=2\n",
    "\n",
    "## 1. simply calculate mean of each sliding views\n",
    "\n",
    "### 1.1 generate sliding window views "
   ]
  },
  {
   "cell_type": "code",
   "execution_count": null,
   "id": "d17366ba-33aa-4a00-bf2e-1cb5e5b6fc42",
   "metadata": {
    "tags": []
   },
   "outputs": [],
   "source": [
    "height, width = zero.shape\n",
    "kernel_height, kernel_width = 2, 2\n",
    "stride_height, stride_width = 2, 2\n",
    "windowed_zero = generate_windowed_2d(x=zero, stride=(stride_height, stride_width))\n",
    "\n",
    "height_blocks, width_blocks, kernel_height, kernel_width = windowed_zero.shape\n",
    "block_size, kernel_size = height_blocks * width_blocks, kernel_height * kernel_width\n",
    "assert windowed_zero.ndim == 4"
   ]
  },
  {
   "cell_type": "markdown",
   "id": "add7f3ef-8a8b-4065-965e-bbf8ac8f4da3",
   "metadata": {},
   "source": [
    "### 1.2. find the mean values along height and width axis"
   ]
  },
  {
   "cell_type": "code",
   "execution_count": null,
   "id": "8ec38c49-1418-4ae1-a3b9-dc05f7fdd3cb",
   "metadata": {},
   "outputs": [],
   "source": [
    "mean_windowed_zero = np.mean(windowed_zero, axis=(2, 3))\n",
    "mean_windowed_zero"
   ]
  },
  {
   "cell_type": "markdown",
   "id": "47f36ba9-9390-40cb-a4ad-152c86ad047f",
   "metadata": {},
   "source": [
    "### 1.3. get the gradient"
   ]
  },
  {
   "cell_type": "code",
   "execution_count": null,
   "id": "6ad1aaee-e358-4ed6-a05c-3c4c3489a716",
   "metadata": {
    "tags": []
   },
   "outputs": [],
   "source": [
    "grad_normal = np.ones_like(zero) / (kernel_height * kernel_width)"
   ]
  },
  {
   "cell_type": "markdown",
   "id": "01816533-73d2-42c6-8162-14cf25cb2f75",
   "metadata": {},
   "source": [
    "### 1.4 compare the result with pytorch"
   ]
  },
  {
   "cell_type": "code",
   "execution_count": null,
   "id": "df325d07-7032-4c99-b81b-3e0dd80e777c",
   "metadata": {
    "tags": []
   },
   "outputs": [],
   "source": [
    "torch_zero = torch.tensor(zero, requires_grad=True, dtype=torch.float).unsqueeze(0)\n",
    "torch_zero.retain_grad()\n",
    "pool = torch.nn.functional.avg_pool2d(\n",
    "    torch_zero,\n",
    "    kernel_size=(kernel_height, kernel_width),\n",
    "    stride=(stride_height, stride_width),\n",
    ")\n",
    "\n",
    "assert np.allclose(pool.detach().numpy(), mean_windowed_zero)\n",
    "\n",
    "pool.sum().backward()\n",
    "assert np.allclose(torch_zero.grad.numpy(), grad_normal)"
   ]
  },
  {
   "cell_type": "markdown",
   "id": "89f598f7-676a-4b49-b8fb-c8914e43bb42",
   "metadata": {
    "tags": []
   },
   "source": [
    "# Mean pooling with stride=1\n",
    "\n",
    "## 1. simply calculate mean of each sliding views\n",
    "\n",
    "### 1.1 generate sliding window views "
   ]
  },
  {
   "cell_type": "code",
   "execution_count": null,
   "id": "61ac5e28-dcf6-412d-86a2-da0556cd9e26",
   "metadata": {
    "tags": []
   },
   "outputs": [],
   "source": [
    "height, width = zero.shape\n",
    "kernel_height, kernel_width = 2, 2\n",
    "stride_height, stride_width = 1, 1\n",
    "windowed_zero = generate_windowed_2d(x=zero, stride=(stride_height, stride_width))\n",
    "\n",
    "height_blocks, width_blocks, kernel_height, kernel_width = windowed_zero.shape\n",
    "block_size, kernel_size = height_blocks * width_blocks, kernel_height * kernel_width\n",
    "assert windowed_zero.ndim == 4"
   ]
  },
  {
   "cell_type": "markdown",
   "id": "a07f690a-e218-4742-9f4f-87923ca358ec",
   "metadata": {},
   "source": [
    "### 1.2. find the mean values along height and width axis"
   ]
  },
  {
   "cell_type": "code",
   "execution_count": null,
   "id": "6a0828a9-107f-4c5d-be9a-4ac2a80e433b",
   "metadata": {},
   "outputs": [],
   "source": [
    "mean_windowed_zero = np.mean(windowed_zero, axis=(2, 3))\n",
    "mean_windowed_zero"
   ]
  },
  {
   "cell_type": "markdown",
   "id": "5aece3b9-8c02-40aa-98cb-1a9a38dbebfa",
   "metadata": {},
   "source": [
    "### 1.3. get the gradient"
   ]
  },
  {
   "cell_type": "code",
   "execution_count": null,
   "id": "7b972195-a4d6-4934-8b11-6d7e38675f87",
   "metadata": {
    "tags": []
   },
   "outputs": [],
   "source": [
    "position_matrix = combine_overlap(np.ones_like(windowed_zero))\n",
    "\n",
    "grad_normal = position_matrix / (kernel_height * kernel_width)"
   ]
  },
  {
   "cell_type": "markdown",
   "id": "610c10ce-4ce1-41ca-8cab-7b42934aca07",
   "metadata": {},
   "source": [
    "### 2.6 compare the result with pytorch"
   ]
  },
  {
   "cell_type": "code",
   "execution_count": null,
   "id": "26b87cef-3fa3-44cb-b48a-d2d839f6372a",
   "metadata": {
    "tags": []
   },
   "outputs": [],
   "source": [
    "torch_zero = torch.tensor(zero, requires_grad=True, dtype=torch.float).unsqueeze(0)\n",
    "torch_zero.retain_grad()\n",
    "pool = torch.nn.functional.avg_pool2d(\n",
    "    torch_zero,\n",
    "    kernel_size=(kernel_height, kernel_width),\n",
    "    stride=(stride_height, stride_width),\n",
    ")\n",
    "\n",
    "assert np.allclose(pool.detach().numpy(), mean_windowed_zero)\n",
    "\n",
    "pool.sum().backward()\n",
    "assert np.allclose(torch_zero.grad.numpy(), grad_normal)"
   ]
  },
  {
   "cell_type": "markdown",
   "id": "50ee7b06-e058-4862-8945-b5b2b9703e2b",
   "metadata": {},
   "source": [
    "# handle boundary case"
   ]
  },
  {
   "cell_type": "code",
   "execution_count": null,
   "id": "039c3e6e-54df-4fe8-a16e-839a3f6be9f3",
   "metadata": {
    "tags": []
   },
   "outputs": [],
   "source": [
    "x = np.arange(35).reshape((7, 5))\n",
    "\n",
    "height, width = x.shape\n",
    "kernel_height, kernel_width = 2, 2\n",
    "stride_height, stride_width = 2, 2\n",
    "windowed_x = generate_windowed_2d(x=x, stride=(stride_height, stride_width))\n",
    "\n",
    "height_blocks, width_blocks, kernel_height, kernel_width = windowed_x.shape\n",
    "block_size, kernel_size = height_blocks * width_blocks, kernel_height * kernel_width\n",
    "assert windowed_x.ndim == 4\n",
    "\n",
    "mean_windowed_x = np.mean(windowed_x, axis=(2, 3))\n",
    "\n",
    "grad_height, grad_width = height_blocks * stride_height, width_blocks * stride_width\n",
    "grad_x = np.ones((grad_height, grad_width)) / (kernel_height * kernel_width)\n",
    "padding_height, padding_width = height - grad_height, width - grad_width\n",
    "grad_x = np.pad(grad_x, ((0, padding_height), (0, padding_width)))\n",
    "\n",
    "torch_x = torch.tensor(x, requires_grad=True, dtype=torch.float).unsqueeze(0)\n",
    "torch_x.retain_grad()\n",
    "pool = torch.nn.functional.avg_pool2d(\n",
    "    torch_x,\n",
    "    kernel_size=(kernel_height, kernel_width),\n",
    "    stride=(stride_height, stride_width),\n",
    ")\n",
    "\n",
    "assert np.allclose(pool.detach().numpy(), mean_windowed_x)\n",
    "\n",
    "pool.sum().backward()\n",
    "assert np.allclose(torch_x.grad.numpy(), grad_x)"
   ]
  },
  {
   "cell_type": "markdown",
   "id": "7503eb0f-a4a2-4c1a-a913-ac609d26acee",
   "metadata": {},
   "source": [
    "# handle batch size"
   ]
  },
  {
   "cell_type": "code",
   "execution_count": null,
   "id": "9f5bc3fc-b627-4508-84ef-ae5e00ffcf89",
   "metadata": {
    "tags": []
   },
   "outputs": [],
   "source": [
    "from conv import load_sample_filters\n",
    "\n",
    "filters = np.asarray(list(load_sample_filters(size=7, channel=1).values()))[:, :, :, None]\n",
    "assert filters.ndim == 4\n",
    "\n",
    "batch_size, height, width, channels = filters.shape\n",
    "\n",
    "kernel_height, kernel_width = 2, 2\n",
    "stride_height, stride_width = 2, 2\n",
    "\n",
    "windowed_filters = window_images(\n",
    "    filters,\n",
    "    kernel_size=(kernel_height, kernel_width),\n",
    "    stride=(stride_height, stride_width),\n",
    "    channels_first=False,\n",
    ").squeeze(axis=-1)\n",
    "\n",
    "(\n",
    "    batch_size,\n",
    "    height_blocks,\n",
    "    width_blocks,\n",
    "    kernel_height,\n",
    "    kernel_width,\n",
    ") = windowed_filters.shape\n",
    "block_size, kernel_size = height_blocks * width_blocks, kernel_height * kernel_width\n",
    "\n",
    "max_pooling_filters = np.max(windowed_filters, axis=(3, 4))\n",
    "reshaped_windowed_filters = windowed_filters.reshape((batch_size, block_size, kernel_size))\n",
    "reshaped_windowed_filters_argmax = np.argmax(\n",
    "    reshaped_windowed_filters, axis=2\n",
    ")  # batch_size, stride_height * stride_width\n",
    "\n",
    "indices = np.stack(np.indices((batch_size, block_size)), axis=-1)  # shape: (batch_size, block_size, 2)\n",
    "reshaped_maximum_locations = np.zeros_like(reshaped_windowed_filters)\n",
    "reshaped_maximum_locations[indices[..., 0], indices[..., 1], reshaped_windowed_filters_argmax] = 1\n",
    "\n",
    "max_windowed_filters_index_without_duplicates = reshaped_maximum_locations.reshape(windowed_filters.shape)\n",
    "\n",
    "# check padding\n",
    "grad_height, grad_width = height_blocks * stride_height, width_blocks * stride_width\n",
    "padding_height, padding_width = height - grad_height, width - grad_width\n",
    "\n",
    "grad_normal = max_windowed_filters_index_without_duplicates.transpose((0, 1, 3, 2, 4)).reshape(\n",
    "    (batch_size, grad_height, grad_width, channels)\n",
    ")\n",
    "\n",
    "if padding_height > 0 or padding_width > 0:\n",
    "    grad_normal = np.pad(grad_normal, ((0, 0), (0, padding_height), (0, padding_width), (0, 0)))\n",
    "\n",
    "assert grad_normal.shape == filters.shape"
   ]
  },
  {
   "cell_type": "code",
   "execution_count": null,
   "id": "dda8ca81-ac28-4b41-a44b-a958054eb9be",
   "metadata": {
    "tags": []
   },
   "outputs": [],
   "source": [
    "torch_filters = torch.tensor(filters, requires_grad=True, dtype=torch.float).permute(\n",
    "    0, 3, 2, 1\n",
    ")  # batch_size, channels, height, width\n",
    "torch_filters.retain_grad()\n",
    "pool = torch.nn.functional.max_pool2d(\n",
    "    torch_filters,\n",
    "    kernel_size=(kernel_height, kernel_width),\n",
    "    stride=(stride_height, stride_width),\n",
    ")\n",
    "\n",
    "assert np.allclose(pool.permute(0, 3, 2, 1).detach().numpy().squeeze(axis=-1), max_pooling_filters)\n",
    "\n",
    "pool.sum().backward()\n",
    "assert np.allclose(torch_filters.grad.permute(0, 3, 2, 1).numpy(), grad_normal)"
   ]
  },
  {
   "cell_type": "markdown",
   "id": "4ee63367-c683-4749-86c9-1460a6cb2f31",
   "metadata": {},
   "source": [
    "# make a new function"
   ]
  },
  {
   "cell_type": "code",
   "execution_count": null,
   "id": "6b768bf7-0340-4d26-8f5e-4a214c3b4b16",
   "metadata": {
    "tags": []
   },
   "outputs": [],
   "source": [
    "def max_pool2d_with_grad(x, kernel_size=None, stride=None):\n",
    "    if kernel_size is None:\n",
    "        kernel_size = (2, 2)\n",
    "    if stride is None:\n",
    "        stride = (2, 2)\n",
    "\n",
    "    stride_height, stride_width = stride\n",
    "    batch_size, height, width, channels = x.shape\n",
    "\n",
    "    windowed_x = window_images(x, kernel_size=kernel_size, stride=stride, channels_first=False)\n",
    "\n",
    "    (\n",
    "        batch_size,\n",
    "        height_blocks,\n",
    "        width_blocks,\n",
    "        kernel_height,\n",
    "        kernel_width,\n",
    "        channels,\n",
    "    ) = windowed_x.shape\n",
    "    block_size, kernel_size = height_blocks * width_blocks, kernel_height * kernel_width\n",
    "\n",
    "    max_pooling_x = np.max(windowed_x, axis=(3, 4))\n",
    "\n",
    "    # backward\n",
    "    reshaped_windowed_x = windowed_x.reshape((batch_size, block_size, kernel_size, channels))\n",
    "    reshaped_windowed_x_argmax = np.argmax(reshaped_windowed_x, axis=2)  # batch_size, block_size, channels\n",
    "\n",
    "    indices = np.stack(\n",
    "        np.indices((batch_size, block_size, channels)), axis=-1\n",
    "    )  # shape: (batch_size, block_size, channels, 3)\n",
    "    reshaped_maximum_locations = np.zeros_like(reshaped_windowed_x)\n",
    "\n",
    "    reshaped_maximum_locations[indices[..., 0], indices[..., 1], reshaped_windowed_x_argmax, indices[..., 2]] = 1\n",
    "\n",
    "    max_windowed_x_index = reshaped_maximum_locations.reshape(windowed_x.shape)\n",
    "\n",
    "    # check padding\n",
    "    grad_height, grad_width = height_blocks * stride_height, width_blocks * stride_width\n",
    "    padding_height, padding_width = height - grad_height, width - grad_width\n",
    "\n",
    "    grad = max_windowed_x_index.transpose((0, 1, 3, 2, 4, 5)).reshape((batch_size, grad_height, grad_width, channels))\n",
    "\n",
    "    if padding_height > 0 or padding_width > 0:\n",
    "        grad = np.pad(grad, ((0, 0), (0, padding_height), (0, padding_width), (0, 0)))\n",
    "\n",
    "    return max_pooling_x, grad"
   ]
  },
  {
   "cell_type": "code",
   "execution_count": null,
   "id": "97bd51fd-96cb-4538-8340-123a33099e87",
   "metadata": {
    "tags": []
   },
   "outputs": [],
   "source": [
    "kernel_size, stride, channels = 2, 2, 3\n",
    "filters = np.asarray(list(load_sample_filters(size=7, channel=channels).values()))  # .transpose((0,3,1,2))\n",
    "assert filters.ndim == 4\n",
    "\n",
    "filters_pooled, filters_grad = max_pool2d_with_grad(filters)\n",
    "batch_size, block_height, block_width, channels = filters_pooled.shape\n",
    "block_size = block_height * block_width\n",
    "\n",
    "torch_filters = torch.tensor(filters, requires_grad=True, dtype=torch.float).permute(\n",
    "    0, 3, 1, 2\n",
    ")  # batch_size, channels, height, width\n",
    "torch_filters.retain_grad()\n",
    "pool = torch.nn.functional.max_pool2d(torch_filters, kernel_size=kernel_size, stride=stride)\n",
    "\n",
    "assert np.allclose(pool.permute(0, 2, 3, 1).detach().numpy(), filters_pooled)\n",
    "\n",
    "pool.sum().backward()\n",
    "assert np.allclose(torch_filters.grad.permute(0, 2, 3, 1).numpy(), filters_grad)"
   ]
  },
  {
   "cell_type": "code",
   "execution_count": null,
   "id": "83f508cb-91d8-4323-9668-9cf4d5db7b33",
   "metadata": {
    "tags": []
   },
   "outputs": [],
   "source": [
    "from sklearn.datasets import load_sample_images\n",
    "\n",
    "images = np.asarray(load_sample_images().images)\n",
    "\n",
    "images.shape"
   ]
  },
  {
   "cell_type": "code",
   "execution_count": null,
   "id": "3dce5c60-5006-4486-b4ef-f272ef1b7b09",
   "metadata": {
    "tags": []
   },
   "outputs": [],
   "source": [
    "images_pooled, images_grad = max_pool2d_with_grad(images)\n",
    "batch_size, block_height, block_width, channels = images_pooled.shape\n",
    "block_size = block_height * block_width\n",
    "\n",
    "torch_images = torch.tensor(images, requires_grad=True, dtype=torch.float).permute(\n",
    "    0, 3, 1, 2\n",
    ")  # batch_size, channels, height, width\n",
    "torch_images.retain_grad()\n",
    "pool = torch.nn.functional.max_pool2d(torch_images, kernel_size=kernel_size, stride=stride)\n",
    "\n",
    "assert np.allclose(pool.permute(0, 2, 3, 1).detach().numpy(), images_pooled)\n",
    "\n",
    "pool.sum().backward()\n",
    "assert np.allclose(torch_images.grad.permute(0, 2, 3, 1).numpy(), images_grad)"
   ]
  },
  {
   "cell_type": "markdown",
   "id": "b8d4612b-5a05-4d48-b57f-703ed2bb4cad",
   "metadata": {},
   "source": [
    "# channel first"
   ]
  },
  {
   "cell_type": "code",
   "execution_count": null,
   "id": "bea0c86c-82dc-447b-8d11-c55e81a77456",
   "metadata": {
    "tags": []
   },
   "outputs": [],
   "source": [
    "from sklearn.datasets import load_sample_images\n",
    "from conv import max_pool2d_with_grad, avg_pool2d_with_grad\n",
    "\n",
    "images = np.asarray(load_sample_images().images).transpose((0, 3, 1, 2))\n",
    "\n",
    "images.shape"
   ]
  },
  {
   "cell_type": "code",
   "execution_count": null,
   "id": "89f16af6-4755-4f0d-a1cc-878a2ecd24b9",
   "metadata": {
    "tags": []
   },
   "outputs": [],
   "source": [
    "images_pooled, images_grad = max_pool2d_with_grad(images)\n",
    "batch_size, block_height, block_width, channels = images_pooled.shape\n",
    "block_size = block_height * block_width\n",
    "\n",
    "torch_images = torch.tensor(images, requires_grad=True, dtype=torch.float)\n",
    "torch_images.retain_grad()\n",
    "pool = torch.nn.functional.max_pool2d(torch_images, kernel_size=kernel_size, stride=stride)\n",
    "\n",
    "assert np.allclose(pool.detach().numpy(), images_pooled)\n",
    "\n",
    "pool.sum().backward()\n",
    "assert np.allclose(torch_images.grad.numpy(), images_grad)"
   ]
  },
  {
   "cell_type": "code",
   "execution_count": null,
   "id": "76f86876-dc85-432a-a3f4-69a0fab21230",
   "metadata": {
    "tags": []
   },
   "outputs": [],
   "source": [
    "images_pooled, images_grad = avg_pool2d_with_grad(images)\n",
    "batch_size, block_height, block_width, channels = images_pooled.shape\n",
    "block_size = block_height * block_width\n",
    "\n",
    "torch_images = torch.tensor(images, requires_grad=True, dtype=torch.float)\n",
    "torch_images.retain_grad()\n",
    "pool = torch.nn.functional.avg_pool2d(torch_images, kernel_size=kernel_size, stride=stride)\n",
    "\n",
    "assert np.allclose(pool.detach().numpy(), images_pooled)\n",
    "\n",
    "pool.sum().backward()\n",
    "assert np.allclose(torch_images.grad.numpy(), images_grad)"
   ]
  }
 ],
 "metadata": {
  "kernelspec": {
   "display_name": "Python 3 (ipykernel)",
   "language": "python",
   "name": "python3"
  },
  "language_info": {
   "codemirror_mode": {
    "name": "ipython",
    "version": 3
   },
   "file_extension": ".py",
   "mimetype": "text/x-python",
   "name": "python",
   "nbconvert_exporter": "python",
   "pygments_lexer": "ipython3",
   "version": "3.10.10"
  }
 },
 "nbformat": 4,
 "nbformat_minor": 5
}
