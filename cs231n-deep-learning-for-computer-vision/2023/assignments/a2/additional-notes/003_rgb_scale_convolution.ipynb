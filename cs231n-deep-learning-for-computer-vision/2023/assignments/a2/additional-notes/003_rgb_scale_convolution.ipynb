{
 "cells": [
  {
   "cell_type": "code",
   "execution_count": null,
   "id": "cd33b33f-6dc0-4bac-a556-465f2d46a88f",
   "metadata": {},
   "outputs": [],
   "source": [
    "import numpy as np\n",
    "import matplotlib.pyplot as plt\n",
    "from scipy import datasets as misc\n",
    "\n",
    "from utils import batch_plot\n",
    "from conv import load_sample_filters"
   ]
  },
  {
   "cell_type": "code",
   "execution_count": null,
   "id": "2ad06372-f82f-42b0-8340-fc4eacbcc5c0",
   "metadata": {},
   "outputs": [],
   "source": [
    "sample_image = misc.face()\n",
    "sample_image = sample_image / sample_image.max()\n",
    "\n",
    "# for better plot\n",
    "n = np.min(sample_image.shape[:2])\n",
    "sample_image = sample_image[:n, :n, :]\n",
    "\n",
    "batch_plot(np.expand_dims(sample_image, 0), with_border=False, imgsize=6)"
   ]
  },
  {
   "cell_type": "markdown",
   "id": "7ddd5441-a382-4add-a925-6fded4fe1d52",
   "metadata": {
    "tags": []
   },
   "source": [
    "# Generate sliding window views of the image"
   ]
  },
  {
   "cell_type": "code",
   "execution_count": null,
   "id": "5a9c29dc-1af7-4486-a2c6-59eefb51e3ce",
   "metadata": {},
   "outputs": [],
   "source": [
    "# example of using numpy sliding_window_view: stride=1\n",
    "height, width, channel, window, stride = 7, 7, 3, 3, 1\n",
    "x = np.arange(height * width * channel).reshape((height, width, channel))\n",
    "y = np.lib.stride_tricks.sliding_window_view(x, window_shape=(window, window, channel)).squeeze(axis=2)\n",
    "\n",
    "# (height - window)/stride + 1 = chunk_height\n",
    "chunk_height, chunk_width = (height - window) // stride + 1, (width - window) // stride + 1\n",
    "assert y.shape == (chunk_height, chunk_width, window, window, channel)\n",
    "\n",
    "# low level operation\n",
    "stride = 1\n",
    "stride_height, stride_width, stride_channel = x.strides\n",
    "z = np.lib.stride_tricks.as_strided(\n",
    "    x,\n",
    "    shape=(chunk_height, chunk_width, window, window, channel),\n",
    "    strides=(\n",
    "        stride * stride_height,\n",
    "        stride * stride_width,\n",
    "        stride_height,\n",
    "        stride_width,\n",
    "        stride_channel,\n",
    "    ),\n",
    ")\n",
    "assert np.allclose(y, z)"
   ]
  },
  {
   "cell_type": "code",
   "execution_count": null,
   "id": "46bf9b28-fe90-48e9-9006-ae2e06b63b4f",
   "metadata": {},
   "outputs": [],
   "source": [
    "# plot nxn views of the image\n",
    "n = 4\n",
    "height, width, channel = sample_image.shape\n",
    "num_stride_height, num_stride_width = height // n, width // n\n",
    "chunk_height, chunk_width = n, n\n",
    "stride_height, stride_width, stride_channel = sample_image.strides\n",
    "# (height - filter_height)/stride + 1 = chunk_height\n",
    "filter_height, filter_width = height - num_stride_height * (chunk_height - 1), width - num_stride_width * (\n",
    "    chunk_width - 1\n",
    ")\n",
    "chunks = np.lib.stride_tricks.as_strided(\n",
    "    sample_image,\n",
    "    shape=(chunk_height, chunk_width, filter_height, filter_width, channel),\n",
    "    strides=(\n",
    "        num_stride_height * stride_height,\n",
    "        num_stride_width * stride_width,\n",
    "        stride_height,\n",
    "        stride_width,\n",
    "        stride_channel,\n",
    "    ),\n",
    ")\n",
    "assert chunks.shape == (chunk_height, chunk_width, filter_height, filter_width, channel)"
   ]
  },
  {
   "cell_type": "code",
   "execution_count": null,
   "id": "8b255f2a-3ae8-4957-8a0a-4b89c64ff84c",
   "metadata": {},
   "outputs": [],
   "source": [
    "sliding_sample_image = chunks.reshape((-1, filter_height, filter_width, channel))\n",
    "assert sliding_sample_image.shape == (\n",
    "    chunk_height * chunk_width,\n",
    "    filter_height,\n",
    "    filter_width,\n",
    "    channel,\n",
    ")\n",
    "batch_plot(\n",
    "    sliding_sample_image,\n",
    "    with_border=False,\n",
    "    cmap=plt.cm.gray,\n",
    "    tight_layout=None,\n",
    "    wspace=0.01,\n",
    "    hspace=0.01,\n",
    "    imgsize=2,\n",
    ")"
   ]
  },
  {
   "cell_type": "markdown",
   "id": "e27d70b6-83c3-4668-ae9e-8f2f8559116c",
   "metadata": {},
   "source": [
    "# Apply filters to the sliding window chunks"
   ]
  },
  {
   "cell_type": "markdown",
   "id": "cbf9dee0-2b47-4f61-a193-02823c156b13",
   "metadata": {},
   "source": [
    "<img src=\"https://miro.medium.com/v2/resize:fit:790/1*1VJDP6qDY9-ExTuQVEOlVg.gif\">\n",
    "\n",
    "[Convolution Operation with Stride Length = 2](https://towardsdatascience.com/a-comprehensive-guide-to-convolutional-neural-networks-the-eli5-way-3bd2b1164a53)"
   ]
  },
  {
   "cell_type": "code",
   "execution_count": null,
   "id": "bca654e7-4d2b-4f6f-b92c-130407695d46",
   "metadata": {},
   "outputs": [],
   "source": [
    "filter_height = filter_width = 7\n",
    "sample_filters = load_sample_filters(size=filter_height, sigma=1, channel=channel)\n",
    "\n",
    "batch_plot(\n",
    "    list(sample_filters.values()),\n",
    "    list(sample_filters.keys()),\n",
    "    with_border=True,\n",
    "    tight_layout=None,\n",
    "    wspace=0.1,\n",
    "    hspace=0.1,\n",
    "    imgsize=4,\n",
    ")"
   ]
  },
  {
   "cell_type": "code",
   "execution_count": null,
   "id": "01f0322b-b0de-47b2-9716-d0ed6ceb8dd9",
   "metadata": {
    "tags": []
   },
   "outputs": [],
   "source": [
    "# chunked with stride of 1\n",
    "height, width, channel = sample_image.shape\n",
    "filters = np.asarray(list(sample_filters.values()))\n",
    "chunks = np.lib.stride_tricks.sliding_window_view(\n",
    "    sample_image, window_shape=(filter_height, filter_width, channel)\n",
    ").squeeze(axis=2)\n",
    "\n",
    "chunk_height, chunk_width = height - filter_height + 1, width - filter_width + 1\n",
    "assert chunks.shape == (chunk_height, chunk_width, filter_height, filter_width, channel)\n",
    "\n",
    "# chunks:                                                      (chunk_height, chunk_width, filter_height, filter_width, channel)\n",
    "# filters:                                                     (num_filters, filter_height, filter_width, channel)\n",
    "\n",
    "# 1. step by step\n",
    "# np.expand_dims(chunks, 2):                                   (chunk_height, chunk_width, 1, filter_height, filter_width, channel)\n",
    "# np.expand_dims(chunks, 2) * filters:                         (chunk_height, chunk_width, num_filters, filter_height, filter_width, channel)\n",
    "# np.expand_dims(chunks, 2) * filters).sum(axis=(-3,-2,-1)):   (chunk_height, chunk_width, num_filters, channel)\n",
    "# filtered_sample_image = (np.expand_dims(chunks, 2) * filters).sum(axis=(-3,-2,-1)).transpose((2,0,1))\n",
    "# 2. tensordot\n",
    "# filtered_sample_image = np.tensordot(chunks, filters, axes=((2,3,4), (1,2,3))).transpose((2,0,1))\n",
    "# 3. einsum\n",
    "# filtered_sample_image = np.einsum('ijklc,nklc->nij',chunks,filters)\n",
    "\n",
    "# 4. img2col\n",
    "# filters.reshape((-1, filter_height*filter_width*channel)).T                           (filter_height*filter_width*channel, num_filters)\n",
    "# chunks.reshape((chunk_height*chunk_width, filter_height*filter_width*channel))        (chunk_height*chunk_width*channel, filter_height*filter_width*channel)\n",
    "filtered_sample_image = (\n",
    "    chunks.reshape((chunk_height * chunk_width, filter_height * filter_width * channel))\n",
    "    @ filters.reshape((-1, filter_height * filter_width * channel)).T\n",
    ")\n",
    "filtered_sample_image = filtered_sample_image.reshape((chunk_height, chunk_width, -1)).transpose((2, 0, 1))\n",
    "\n",
    "assert filtered_sample_image.shape == (len(filters), chunk_height, chunk_width)\n",
    "\n",
    "batch_plot(\n",
    "    filtered_sample_image,\n",
    "    list(sample_filters.keys()),\n",
    "    with_border=False,\n",
    "    cmap=plt.cm.gray,\n",
    "    tight_layout=None,\n",
    "    wspace=0.1,\n",
    "    hspace=0.1,\n",
    "    imgsize=6,\n",
    ")"
   ]
  }
 ],
 "metadata": {
  "kernelspec": {
   "display_name": "Python 3 (ipykernel)",
   "language": "python",
   "name": "python3"
  },
  "language_info": {
   "codemirror_mode": {
    "name": "ipython",
    "version": 3
   },
   "file_extension": ".py",
   "mimetype": "text/x-python",
   "name": "python",
   "nbconvert_exporter": "python",
   "pygments_lexer": "ipython3",
   "version": "3.10.9"
  }
 },
 "nbformat": 4,
 "nbformat_minor": 5
}
